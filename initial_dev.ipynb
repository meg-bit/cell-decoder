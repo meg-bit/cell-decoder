{
 "cells": [
  {
   "cell_type": "markdown",
   "id": "7bd641a6",
   "metadata": {},
   "source": [
    "Data from the experiment on 2021/05/06: this file puts data in channels * cycles * z * y * x"
   ]
  },
  {
   "cell_type": "markdown",
   "id": "e7d027e2",
   "metadata": {},
   "source": [
    "# Preprocessing"
   ]
  },
  {
   "cell_type": "code",
   "execution_count": 1,
   "id": "3fed2905",
   "metadata": {},
   "outputs": [],
   "source": [
    "import heapq\n",
    "import os\n",
    "import sys\n",
    "import numpy as np\n",
    "import pandas as pd\n",
    "import tifffile as tif\n",
    "import h5py\n",
    "from skimage import io, img_as_float32\n",
    "import matplotlib.pyplot as plt\n",
    "from scipy import ndimage\n",
    "import IPython.display\n",
    "# import PIL\n",
    "%matplotlib inline\n",
    "%load_ext autoreload\n",
    "%autoreload 2\n",
    "import os, sys\n",
    "sys.path.append(\"../bardensr\")\n",
    "import bardensr\n",
    "import bardensr.plotting"
   ]
  },
  {
   "cell_type": "code",
   "execution_count": 2,
   "id": "00a95504",
   "metadata": {},
   "outputs": [
    {
     "name": "stdout",
     "output_type": "stream",
     "text": [
      "./data/crisprmap20210506/amp-ch1-cycle0.tiff\n",
      "./data/crisprmap20210506/amp-ch1-cycle1.tiff\n",
      "./data/crisprmap20210506/amp-ch1-cycle2.tiff\n",
      "./data/crisprmap20210506/amp-ch1-cycle3.tiff\n",
      "./data/crisprmap20210506/amp-ch1-cycle4.tiff\n",
      "./data/crisprmap20210506/amp-ch2-cycle0.tiff\n",
      "./data/crisprmap20210506/amp-ch2-cycle1.tiff\n",
      "./data/crisprmap20210506/amp-ch2-cycle2.tiff\n",
      "./data/crisprmap20210506/amp-ch2-cycle3.tiff\n",
      "./data/crisprmap20210506/amp-ch2-cycle4.tiff\n"
     ]
    }
   ],
   "source": [
    "n_channels = 2\n",
    "n_cycles = 5\n",
    "\n",
    "img = tif.imread('./data/crisprmap20210506/amp-ch1-cycle0.tiff')\n",
    "img_size = img.shape[:2]\n",
    "\n",
    "X = np.zeros((n_channels*n_cycles, 1, *img_size))\n",
    "k = 0\n",
    "for i in range(n_channels):\n",
    "    for j in range(n_cycles):\n",
    "        fn = f'./data/crisprmap20210506/amp-ch{i+1}-cycle{j}.tiff'\n",
    "        print(fn)\n",
    "        img = tif.imread(fn)\n",
    "        X[k, 0, :, :] = img[:, :, 1]  # using layer 1 out of layers 0-3\n",
    "        k = k+1"
   ]
  },
  {
   "cell_type": "code",
   "execution_count": 3,
   "id": "1345ec4a",
   "metadata": {},
   "outputs": [
    {
     "data": {
      "text/plain": [
       "(2048, 1792, 4)"
      ]
     },
     "execution_count": 3,
     "metadata": {},
     "output_type": "execute_result"
    }
   ],
   "source": [
    "img.shape"
   ]
  },
  {
   "cell_type": "code",
   "execution_count": 4,
   "id": "297ebc55",
   "metadata": {},
   "outputs": [
    {
     "data": {
      "text/plain": [
       "(10, 1, 2048, 1792)"
      ]
     },
     "execution_count": 4,
     "metadata": {},
     "output_type": "execute_result"
    }
   ],
   "source": [
    "X.shape"
   ]
  },
  {
   "cell_type": "code",
   "execution_count": 5,
   "id": "1730caf0",
   "metadata": {},
   "outputs": [],
   "source": [
    "# for i in range(X.shape[0]):\n",
    "#     plt.figure(dpi=250)\n",
    "#     plt.imshow(X[i, 0,])"
   ]
  },
  {
   "cell_type": "markdown",
   "id": "cd3e02a0",
   "metadata": {},
   "source": [
    "## Check how many pixels are roughly in one amplicon"
   ]
  },
  {
   "cell_type": "code",
   "execution_count": 6,
   "id": "b2f774b5",
   "metadata": {},
   "outputs": [],
   "source": [
    "# img = tif.imread('./data/crisprmap20210506/amp-ch1-cycle2.tiff')\n",
    "# plt.figure(dpi=100)\n",
    "# plt.imshow(img[80:100, 80:100, 1])\n",
    "# plt.axis('image')\n",
    "# # im.view()"
   ]
  },
  {
   "cell_type": "markdown",
   "id": "5743a530",
   "metadata": {},
   "source": [
    "This shows if the windows for local maxima is 3 by 3 pixels, they should be right for catching one amplicon"
   ]
  },
  {
   "cell_type": "markdown",
   "id": "b2861278",
   "metadata": {},
   "source": [
    "## Remove border artifact and get X only within the range of the slide - segmentation images must be set to the same range when overlaying"
   ]
  },
  {
   "cell_type": "code",
   "execution_count": 7,
   "id": "104aadf4",
   "metadata": {},
   "outputs": [],
   "source": [
    "up = 10\n",
    "down = 1900\n",
    "left = 50\n",
    "right = 1650\n",
    "\n",
    "Xcenter = X[:, :, up:down, left:right] # range is selected based on observation of images"
   ]
  },
  {
   "cell_type": "code",
   "execution_count": 8,
   "id": "d89c75ff",
   "metadata": {},
   "outputs": [],
   "source": [
    "# for i in range(Xcenter.shape[0]):\n",
    "#     plt.figure(dpi=250)\n",
    "#     plt.imshow(Xcenter[i, 0,])"
   ]
  },
  {
   "cell_type": "markdown",
   "id": "d6b3641d",
   "metadata": {},
   "source": [
    "# Codebook\n",
    "\n",
    "The most important is to make sure the codebook and the images are of the same order"
   ]
  },
  {
   "cell_type": "code",
   "execution_count": 9,
   "id": "27f4832f",
   "metadata": {},
   "outputs": [
    {
     "data": {
      "text/plain": [
       "array([[1, 0, 0, 0, 0, 1, 0, 0, 0, 0],\n",
       "       [0, 0, 0, 1, 0, 0, 0, 0, 1, 0],\n",
       "       [0, 1, 0, 0, 0, 0, 1, 0, 0, 0],\n",
       "       [0, 0, 0, 0, 1, 0, 0, 0, 0, 1],\n",
       "       [0, 0, 1, 0, 0, 0, 0, 1, 0, 0],\n",
       "       [0, 1, 0, 0, 0, 1, 0, 0, 0, 0],\n",
       "       [0, 0, 1, 0, 0, 1, 0, 0, 0, 0],\n",
       "       [1, 0, 0, 0, 0, 0, 1, 0, 0, 0],\n",
       "       [0, 0, 1, 0, 0, 0, 1, 0, 0, 0],\n",
       "       [0, 1, 0, 0, 0, 0, 0, 1, 0, 0]])"
      ]
     },
     "execution_count": 9,
     "metadata": {},
     "output_type": "execute_result"
    }
   ],
   "source": [
    "# !! currently the first value shows nan and hard code it to be 1; needs a better fix\n",
    "codebook = np.genfromtxt('./data/CRISPRmap_pilot_codebook_default.csv', filling_values=1, dtype=np.int, delimiter=\",\")\n",
    "codebook"
   ]
  },
  {
   "cell_type": "code",
   "execution_count": 10,
   "id": "6b7ba663",
   "metadata": {},
   "outputs": [],
   "source": [
    "# codebook = csv.reshape((10, 2, 5)).T.astype(bool)\n",
    "# codebook"
   ]
  },
  {
   "cell_type": "code",
   "execution_count": 11,
   "id": "4e0cedae",
   "metadata": {},
   "outputs": [
    {
     "data": {
      "text/plain": [
       "(10, 10)"
      ]
     },
     "execution_count": 11,
     "metadata": {},
     "output_type": "execute_result"
    }
   ],
   "source": [
    "codebook.shape"
   ]
  },
  {
   "cell_type": "markdown",
   "id": "e8fcfc5d",
   "metadata": {},
   "source": [
    "The order of the codebook matches the order of the image stack."
   ]
  },
  {
   "cell_type": "markdown",
   "id": "81e53f9b",
   "metadata": {},
   "source": [
    "## Background subtraction and normalization"
   ]
  },
  {
   "cell_type": "code",
   "execution_count": 12,
   "id": "d3850089",
   "metadata": {},
   "outputs": [
    {
     "data": {
      "text/plain": [
       "(10, 1, 1890, 1600)"
      ]
     },
     "execution_count": 12,
     "metadata": {},
     "output_type": "execute_result"
    }
   ],
   "source": [
    "Xcenter.shape"
   ]
  },
  {
   "cell_type": "code",
   "execution_count": 13,
   "id": "e86ac9b7",
   "metadata": {},
   "outputs": [],
   "source": [
    "# Different from how bardensr did it (use these functions for now because they are tested)\n",
    "Xnorm = bardensr.preprocessing.background_subtraction(Xcenter, [0,10,10])\n",
    "Xnorm = bardensr.preprocessing.minmax(Xnorm)"
   ]
  },
  {
   "cell_type": "code",
   "execution_count": 14,
   "id": "2469b4df",
   "metadata": {},
   "outputs": [
    {
     "data": {
      "text/plain": [
       "(10, 1, 1890, 1600)"
      ]
     },
     "execution_count": 14,
     "metadata": {},
     "output_type": "execute_result"
    }
   ],
   "source": [
    "Xnorm.shape"
   ]
  },
  {
   "cell_type": "code",
   "execution_count": 15,
   "id": "ab816014",
   "metadata": {},
   "outputs": [],
   "source": [
    "# for i in range(Xnorm.shape[0]):\n",
    "#     plt.figure(dpi=250)\n",
    "#     plt.imshow(Xnorm[i, 0,])"
   ]
  },
  {
   "cell_type": "markdown",
   "id": "a5a348a4",
   "metadata": {},
   "source": [
    "## Distribution"
   ]
  },
  {
   "cell_type": "code",
   "execution_count": 16,
   "id": "73075dcf",
   "metadata": {},
   "outputs": [],
   "source": [
    "# # create the histogram\n",
    "# for i in range(Xnorm.shape[0]):\n",
    "#     histogram, bin_edges = np.histogram(Xnorm[i, 0], bins=256, range=(0, 1))\n",
    "\n",
    "#     # configure and draw the histogram figure\n",
    "#     plt.figure()\n",
    "# #     plt.title(\"Grayscale Histogram\")\n",
    "#     plt.xlabel(\"grayscale value\")\n",
    "#     plt.ylabel(\"pixels\")\n",
    "\n",
    "#     plt.semilogy(bin_edges[0:-1], histogram)  # <- or here\n",
    "\n",
    "#     plt.xlim([0.0, 1.0])  # <- named arguments do not work here\n",
    "#     plt.show()"
   ]
  },
  {
   "cell_type": "markdown",
   "id": "96e66a55",
   "metadata": {},
   "source": [
    "## Thresholding"
   ]
  },
  {
   "cell_type": "code",
   "execution_count": 17,
   "id": "1e7307de",
   "metadata": {},
   "outputs": [
    {
     "data": {
      "text/plain": [
       "(10, 1, 1890, 1600)"
      ]
     },
     "execution_count": 17,
     "metadata": {},
     "output_type": "execute_result"
    }
   ],
   "source": [
    "Xnorm.shape"
   ]
  },
  {
   "cell_type": "code",
   "execution_count": 18,
   "id": "7cc6e6d2",
   "metadata": {},
   "outputs": [
    {
     "data": {
      "text/plain": [
       "(1890, 1600)"
      ]
     },
     "execution_count": 18,
     "metadata": {},
     "output_type": "execute_result"
    }
   ],
   "source": [
    "Xnorm[0, 0,].shape"
   ]
  },
  {
   "cell_type": "code",
   "execution_count": 19,
   "id": "feb742a4",
   "metadata": {},
   "outputs": [],
   "source": [
    "# upper = 0.9\n",
    "# lower = [0.2, 0.16, 0.13, 0.15, 0.16, 0.16, 0.16, 0.13, 0.15, 0.15]\n",
    "# Xthresh = Xnorm.copy()\n",
    "# for i in range(Xthresh.shape[0]):\n",
    "#     single = Xthresh[i, 0,]\n",
    "#     single[single < lower[i]] = 0\n",
    "#     single[single > upper] = upper\n",
    "#     Xthresh[i, 0] = single"
   ]
  },
  {
   "cell_type": "code",
   "execution_count": 20,
   "id": "76c6608e",
   "metadata": {},
   "outputs": [],
   "source": [
    "residual = 0.125  # tested through the spot method and the cell method should be less sensitive \n",
    "Xthresh = Xnorm.copy()\n",
    "Xthresh[Xthresh < residual] = 0"
   ]
  },
  {
   "cell_type": "code",
   "execution_count": 21,
   "id": "1df897a6",
   "metadata": {},
   "outputs": [],
   "source": [
    "# for i in range(Xthresh.shape[0]):\n",
    "#     histogram, bin_edges = np.histogram(Xthresh[i, 0], bins=256, range=(0, 1))\n",
    "\n",
    "#     # configure and draw the histogram figure\n",
    "#     plt.figure()\n",
    "# #     plt.title(\"Grayscale Histogram\")\n",
    "#     plt.xlabel(\"grayscale value\")\n",
    "#     plt.ylabel(\"pixels\")\n",
    "\n",
    "#     plt.semilogy(bin_edges[0:-1], histogram)  # <- or here\n",
    "\n",
    "#     plt.xlim([0.0, 1.0])  # <- named arguments do not work here\n",
    "#     plt.show()"
   ]
  },
  {
   "cell_type": "code",
   "execution_count": 22,
   "id": "e668c2c3",
   "metadata": {},
   "outputs": [],
   "source": [
    "# # Before and after (partial region)\n",
    "# # with bardensr.plotting.AnimAcross() as a:\n",
    "# for i in range(Xthresh.shape[0]):\n",
    "#     plt.figure(dpi=250)\n",
    "#     plt.subplot(1, 2, 1)\n",
    "# #     a('before')\n",
    "#     plt.imshow(Xnorm[i, 0, 200:500, 200:500])\n",
    "#     plt.subplot(1, 2, 2)\n",
    "# #     a('after')\n",
    "#     plt.imshow(Xthresh[i, 0, 200:500, 200:500])"
   ]
  },
  {
   "cell_type": "markdown",
   "id": "89ed9a62",
   "metadata": {},
   "source": [
    "# Peak calling and counting (inside membrane masks)\n",
    "\n",
    "**Check by overlay to see if there are enough spots called.**"
   ]
  },
  {
   "cell_type": "code",
   "execution_count": 23,
   "id": "ea96dcf3",
   "metadata": {},
   "outputs": [
    {
     "name": "stdout",
     "output_type": "stream",
     "text": [
      "<KeysViewHDF5 ['Average GFP Masks', 'Cell Seg Mask', 'Max Projection', 'Nuc Seg Mask', 'Summed GFP Masks']>\n"
     ]
    }
   ],
   "source": [
    "# Read in the membrane segmentation\n",
    "hf = h5py.File(\"./data/Ben_MembraneSegmentation_NuclearGFP_2021-06-22.hdf5\", \"r\")\n",
    "print(hf.keys())\n",
    "masks_mem = hf[\"Cell Seg Mask\"]"
   ]
  },
  {
   "cell_type": "code",
   "execution_count": 24,
   "id": "0ab4db44",
   "metadata": {},
   "outputs": [],
   "source": [
    "# plt.figure(dpi=250)\n",
    "# plt.imshow(masks_mem)\n",
    "# plt.axis('image')"
   ]
  },
  {
   "cell_type": "code",
   "execution_count": 25,
   "id": "f8f129fd",
   "metadata": {},
   "outputs": [],
   "source": [
    "# Find the number of membrane segmentation masks\n",
    "# np.unique(masks_mem)"
   ]
  },
  {
   "cell_type": "code",
   "execution_count": 26,
   "id": "24b7fec8",
   "metadata": {},
   "outputs": [],
   "source": [
    "# # Check starting from which number the masks are truly membrane segmentation (instead of the background)\n",
    "# plt.figure(dpi=300)\n",
    "# for i in range(0, 5):\n",
    "#     plt.figure()\n",
    "#     plt.imshow(np.array(masks_mem)==i)"
   ]
  },
  {
   "cell_type": "code",
   "execution_count": 27,
   "id": "56f0ff59",
   "metadata": {},
   "outputs": [],
   "source": [
    "#     xindex = test.loc[i, 'm2'] + left\n",
    "#     yindex = test.loc[i, 'm1'] + up"
   ]
  },
  {
   "cell_type": "code",
   "execution_count": 28,
   "id": "57378238",
   "metadata": {},
   "outputs": [],
   "source": [
    "# pd.DataFrame(np.zeros((len(np.unique(masks_mem)), Xthresh.shape[0])))"
   ]
  },
  {
   "cell_type": "code",
   "execution_count": 29,
   "id": "8ad9276c",
   "metadata": {},
   "outputs": [],
   "source": [
    "# cell_table = pd.DataFrame(np.zeros((len(np.unique(masks_mem)), Xthresh.shape[0])))\n",
    "cell_table = np.zeros((len(np.unique(masks_mem)), Xthresh.shape[0]))\n",
    "\n",
    "for k in range(Xthresh.shape[0]):  # for the kth image\n",
    "    # Get local maximum values of desired neighborhood (size of the amplicons)\n",
    "    max_fil = ndimage.maximum_filter(Xthresh[k,], size=(1, 2, 2))\n",
    "\n",
    "    # Threshold the image to find locations of interest\n",
    "    # assuming 6 standard deviations above the mean of the image\n",
    "    peak_thresh = max_fil.mean() + max_fil.std() * 6\n",
    "\n",
    "    # find areas greater than peak_thresh\n",
    "    labels, num_labels = ndimage.label(max_fil > peak_thresh)\n",
    "\n",
    "    # Get the positions of the maxima\n",
    "    coords = ndimage.measurements.center_of_mass(Xthresh[k,], \n",
    "                                                 labels=labels, \n",
    "                                                 index=np.arange(1, num_labels + 1))\n",
    "\n",
    "    # # Get the maximum value in the labels\n",
    "    # values = ndimage.measurements.maximum(img, labels=labels, index=np.arange(1, num_labels + 1))\n",
    "    # # https://stackoverflow.com/questions/55453110/how-to-find-local-maxima-of-3d-array-in-python\n",
    "\n",
    "    for _, m1, m2 in coords:\n",
    "        m1 = int(np.round(m1))\n",
    "        m2 = int(np.round(m2))\n",
    "        mem_id = masks_mem[m1+up, m2+left]  # important to match the coordinates if images are trimmed\n",
    "        if mem_id>0: # 0 is background\n",
    "#             cell_table.loc[mem_id, k] += 1\n",
    "            cell_table[mem_id, k] += 1"
   ]
  },
  {
   "cell_type": "code",
   "execution_count": 30,
   "id": "e1353e92",
   "metadata": {},
   "outputs": [],
   "source": [
    "# labels"
   ]
  },
  {
   "cell_type": "code",
   "execution_count": 59,
   "id": "9c7581f6",
   "metadata": {},
   "outputs": [
    {
     "data": {
      "text/plain": [
       "299"
      ]
     },
     "execution_count": 59,
     "metadata": {},
     "output_type": "execute_result"
    }
   ],
   "source": [
    "num_labels"
   ]
  },
  {
   "cell_type": "code",
   "execution_count": 32,
   "id": "5b9111d8",
   "metadata": {},
   "outputs": [
    {
     "data": {
      "text/plain": [
       "[(0.0, 6.543602130081081, 861.0),\n",
       " (0.0, 8.0, 108.59272456891979),\n",
       " (0.0, 9.481436771695659, 903.0),\n",
       " (0.0, 11.254144676468409, 729.667745198682),\n",
       " (0.0, 14.440051349491345, 1046.6361900533907),\n",
       " (0.0, 14.434706722909056, 1560.5603333633226),\n",
       " (0.0, 30.0, 542.0),\n",
       " (0.0, 30.435710348342994, 854.9999999999999),\n",
       " (0.0, 34.46947260290432, 990.7079067808304),\n",
       " (0.0, 34.362508995111035, 1529.6088846841628)]"
      ]
     },
     "execution_count": 32,
     "metadata": {},
     "output_type": "execute_result"
    }
   ],
   "source": [
    "coords[:10]"
   ]
  },
  {
   "cell_type": "code",
   "execution_count": 33,
   "id": "bdd9f061",
   "metadata": {},
   "outputs": [
    {
     "data": {
      "text/plain": [
       "802"
      ]
     },
     "execution_count": 33,
     "metadata": {},
     "output_type": "execute_result"
    }
   ],
   "source": [
    "int(np.round(801.5228444869555))"
   ]
  },
  {
   "cell_type": "code",
   "execution_count": 34,
   "id": "6898e089",
   "metadata": {},
   "outputs": [
    {
     "data": {
      "text/plain": [
       "299"
      ]
     },
     "execution_count": 34,
     "metadata": {},
     "output_type": "execute_result"
    }
   ],
   "source": [
    "len(coords)"
   ]
  },
  {
   "cell_type": "code",
   "execution_count": 60,
   "id": "80986632",
   "metadata": {},
   "outputs": [
    {
     "data": {
      "text/html": [
       "<div>\n",
       "<style scoped>\n",
       "    .dataframe tbody tr th:only-of-type {\n",
       "        vertical-align: middle;\n",
       "    }\n",
       "\n",
       "    .dataframe tbody tr th {\n",
       "        vertical-align: top;\n",
       "    }\n",
       "\n",
       "    .dataframe thead th {\n",
       "        text-align: right;\n",
       "    }\n",
       "</style>\n",
       "<table border=\"1\" class=\"dataframe\">\n",
       "  <thead>\n",
       "    <tr style=\"text-align: right;\">\n",
       "      <th></th>\n",
       "      <th>0</th>\n",
       "      <th>1</th>\n",
       "      <th>2</th>\n",
       "      <th>3</th>\n",
       "      <th>4</th>\n",
       "      <th>5</th>\n",
       "      <th>6</th>\n",
       "      <th>7</th>\n",
       "      <th>8</th>\n",
       "      <th>9</th>\n",
       "    </tr>\n",
       "  </thead>\n",
       "  <tbody>\n",
       "    <tr>\n",
       "      <th>0</th>\n",
       "      <td>0.0</td>\n",
       "      <td>0.0</td>\n",
       "      <td>0.0</td>\n",
       "      <td>0.0</td>\n",
       "      <td>0.0</td>\n",
       "      <td>0.0</td>\n",
       "      <td>0.0</td>\n",
       "      <td>0.0</td>\n",
       "      <td>0.0</td>\n",
       "      <td>0.0</td>\n",
       "    </tr>\n",
       "    <tr>\n",
       "      <th>1</th>\n",
       "      <td>0.0</td>\n",
       "      <td>0.0</td>\n",
       "      <td>0.0</td>\n",
       "      <td>0.0</td>\n",
       "      <td>0.0</td>\n",
       "      <td>0.0</td>\n",
       "      <td>0.0</td>\n",
       "      <td>0.0</td>\n",
       "      <td>0.0</td>\n",
       "      <td>0.0</td>\n",
       "    </tr>\n",
       "    <tr>\n",
       "      <th>2</th>\n",
       "      <td>0.0</td>\n",
       "      <td>1.0</td>\n",
       "      <td>1.0</td>\n",
       "      <td>0.0</td>\n",
       "      <td>0.0</td>\n",
       "      <td>0.0</td>\n",
       "      <td>0.0</td>\n",
       "      <td>3.0</td>\n",
       "      <td>0.0</td>\n",
       "      <td>0.0</td>\n",
       "    </tr>\n",
       "    <tr>\n",
       "      <th>3</th>\n",
       "      <td>0.0</td>\n",
       "      <td>0.0</td>\n",
       "      <td>0.0</td>\n",
       "      <td>0.0</td>\n",
       "      <td>0.0</td>\n",
       "      <td>0.0</td>\n",
       "      <td>0.0</td>\n",
       "      <td>0.0</td>\n",
       "      <td>0.0</td>\n",
       "      <td>0.0</td>\n",
       "    </tr>\n",
       "    <tr>\n",
       "      <th>4</th>\n",
       "      <td>0.0</td>\n",
       "      <td>0.0</td>\n",
       "      <td>0.0</td>\n",
       "      <td>0.0</td>\n",
       "      <td>0.0</td>\n",
       "      <td>0.0</td>\n",
       "      <td>0.0</td>\n",
       "      <td>0.0</td>\n",
       "      <td>0.0</td>\n",
       "      <td>0.0</td>\n",
       "    </tr>\n",
       "    <tr>\n",
       "      <th>...</th>\n",
       "      <td>...</td>\n",
       "      <td>...</td>\n",
       "      <td>...</td>\n",
       "      <td>...</td>\n",
       "      <td>...</td>\n",
       "      <td>...</td>\n",
       "      <td>...</td>\n",
       "      <td>...</td>\n",
       "      <td>...</td>\n",
       "      <td>...</td>\n",
       "    </tr>\n",
       "    <tr>\n",
       "      <th>655</th>\n",
       "      <td>20.0</td>\n",
       "      <td>4.0</td>\n",
       "      <td>1.0</td>\n",
       "      <td>0.0</td>\n",
       "      <td>0.0</td>\n",
       "      <td>10.0</td>\n",
       "      <td>3.0</td>\n",
       "      <td>8.0</td>\n",
       "      <td>0.0</td>\n",
       "      <td>1.0</td>\n",
       "    </tr>\n",
       "    <tr>\n",
       "      <th>656</th>\n",
       "      <td>1.0</td>\n",
       "      <td>17.0</td>\n",
       "      <td>0.0</td>\n",
       "      <td>0.0</td>\n",
       "      <td>0.0</td>\n",
       "      <td>2.0</td>\n",
       "      <td>1.0</td>\n",
       "      <td>18.0</td>\n",
       "      <td>0.0</td>\n",
       "      <td>0.0</td>\n",
       "    </tr>\n",
       "    <tr>\n",
       "      <th>657</th>\n",
       "      <td>2.0</td>\n",
       "      <td>8.0</td>\n",
       "      <td>1.0</td>\n",
       "      <td>0.0</td>\n",
       "      <td>0.0</td>\n",
       "      <td>5.0</td>\n",
       "      <td>0.0</td>\n",
       "      <td>2.0</td>\n",
       "      <td>1.0</td>\n",
       "      <td>0.0</td>\n",
       "    </tr>\n",
       "    <tr>\n",
       "      <th>658</th>\n",
       "      <td>0.0</td>\n",
       "      <td>1.0</td>\n",
       "      <td>9.0</td>\n",
       "      <td>0.0</td>\n",
       "      <td>0.0</td>\n",
       "      <td>1.0</td>\n",
       "      <td>0.0</td>\n",
       "      <td>10.0</td>\n",
       "      <td>0.0</td>\n",
       "      <td>0.0</td>\n",
       "    </tr>\n",
       "    <tr>\n",
       "      <th>659</th>\n",
       "      <td>2.0</td>\n",
       "      <td>0.0</td>\n",
       "      <td>0.0</td>\n",
       "      <td>0.0</td>\n",
       "      <td>0.0</td>\n",
       "      <td>2.0</td>\n",
       "      <td>0.0</td>\n",
       "      <td>0.0</td>\n",
       "      <td>0.0</td>\n",
       "      <td>0.0</td>\n",
       "    </tr>\n",
       "  </tbody>\n",
       "</table>\n",
       "<p>660 rows × 10 columns</p>\n",
       "</div>"
      ],
      "text/plain": [
       "        0     1    2    3    4     5    6     7    8    9\n",
       "0     0.0   0.0  0.0  0.0  0.0   0.0  0.0   0.0  0.0  0.0\n",
       "1     0.0   0.0  0.0  0.0  0.0   0.0  0.0   0.0  0.0  0.0\n",
       "2     0.0   1.0  1.0  0.0  0.0   0.0  0.0   3.0  0.0  0.0\n",
       "3     0.0   0.0  0.0  0.0  0.0   0.0  0.0   0.0  0.0  0.0\n",
       "4     0.0   0.0  0.0  0.0  0.0   0.0  0.0   0.0  0.0  0.0\n",
       "..    ...   ...  ...  ...  ...   ...  ...   ...  ...  ...\n",
       "655  20.0   4.0  1.0  0.0  0.0  10.0  3.0   8.0  0.0  1.0\n",
       "656   1.0  17.0  0.0  0.0  0.0   2.0  1.0  18.0  0.0  0.0\n",
       "657   2.0   8.0  1.0  0.0  0.0   5.0  0.0   2.0  1.0  0.0\n",
       "658   0.0   1.0  9.0  0.0  0.0   1.0  0.0  10.0  0.0  0.0\n",
       "659   2.0   0.0  0.0  0.0  0.0   2.0  0.0   0.0  0.0  0.0\n",
       "\n",
       "[660 rows x 10 columns]"
      ]
     },
     "execution_count": 60,
     "metadata": {},
     "output_type": "execute_result"
    }
   ],
   "source": [
    "pd.DataFrame(cell_table)"
   ]
  },
  {
   "cell_type": "code",
   "execution_count": 36,
   "id": "2434bbb5",
   "metadata": {},
   "outputs": [
    {
     "data": {
      "text/plain": [
       "(660, 10)"
      ]
     },
     "execution_count": 36,
     "metadata": {},
     "output_type": "execute_result"
    }
   ],
   "source": [
    "cell_table.shape"
   ]
  },
  {
   "cell_type": "markdown",
   "id": "5c67c27c",
   "metadata": {},
   "source": [
    "# Nearest Neighbor/Correlation"
   ]
  },
  {
   "cell_type": "code",
   "execution_count": 37,
   "id": "955ea006",
   "metadata": {},
   "outputs": [],
   "source": [
    "# Calculate the correlation\n",
    "cell_norm = np.sqrt(np.sum(np.power(cell_table, 2), axis=1))\n",
    "cell_corr = cell_table.dot(codebook.T) / np.reshape(cell_norm + 1e-6, (-1,1))  # add 1e-6 to avoid the denominator being 0"
   ]
  },
  {
   "cell_type": "code",
   "execution_count": 38,
   "id": "b175189a",
   "metadata": {},
   "outputs": [
    {
     "data": {
      "text/plain": [
       "array([[1.38873008, 0.        , 0.10286889, 0.05143445, 0.20573779,\n",
       "        0.77151671, 0.8743856 , 0.72008226, 0.20573779, 0.10286889],\n",
       "       [0.64326749, 0.        , 0.05360562, 0.        , 0.91129561,\n",
       "        0.16081687, 0.2144225 , 0.53605624, 0.10721125, 0.85768998],\n",
       "       [0.04944682, 0.09889363, 0.09889363, 0.        , 0.9889363 ,\n",
       "        0.14834045, 1.03838312, 0.        , 0.9889363 , 0.09889363],\n",
       "       [1.38873004, 0.        , 0.15430334, 0.        , 0.        ,\n",
       "        0.77151669, 0.61721335, 0.77151669, 0.        , 0.15430334],\n",
       "       [0.        , 0.        , 0.        , 0.        , 0.        ,\n",
       "        0.        , 0.        , 0.        , 0.        , 0.        ]])"
      ]
     },
     "execution_count": 38,
     "metadata": {},
     "output_type": "execute_result"
    }
   ],
   "source": [
    "cell_corr[200:205,]"
   ]
  },
  {
   "cell_type": "code",
   "execution_count": 39,
   "id": "202e8416",
   "metadata": {},
   "outputs": [
    {
     "data": {
      "text/plain": [
       "(660, 10)"
      ]
     },
     "execution_count": 39,
     "metadata": {},
     "output_type": "execute_result"
    }
   ],
   "source": [
    "cell_corr.shape"
   ]
  },
  {
   "cell_type": "code",
   "execution_count": 40,
   "id": "09ee5f9d",
   "metadata": {},
   "outputs": [],
   "source": [
    "# cell_norm + 1e-6"
   ]
  },
  {
   "cell_type": "code",
   "execution_count": 41,
   "id": "b9390fa4",
   "metadata": {},
   "outputs": [],
   "source": [
    "# (cell_table.dot(codebook.T) / np.reshape(cell_norm, (-1,1))).shape"
   ]
  },
  {
   "cell_type": "code",
   "execution_count": 42,
   "id": "f773da45",
   "metadata": {},
   "outputs": [],
   "source": [
    "# cell_norm"
   ]
  },
  {
   "cell_type": "code",
   "execution_count": 43,
   "id": "f3a2f19d",
   "metadata": {},
   "outputs": [],
   "source": [
    "# np.reshape(cell_norm, (-1,1))"
   ]
  },
  {
   "cell_type": "code",
   "execution_count": 74,
   "id": "e333575b",
   "metadata": {},
   "outputs": [
    {
     "data": {
      "text/html": [
       "<div>\n",
       "<style scoped>\n",
       "    .dataframe tbody tr th:only-of-type {\n",
       "        vertical-align: middle;\n",
       "    }\n",
       "\n",
       "    .dataframe tbody tr th {\n",
       "        vertical-align: top;\n",
       "    }\n",
       "\n",
       "    .dataframe thead th {\n",
       "        text-align: right;\n",
       "    }\n",
       "</style>\n",
       "<table border=\"1\" class=\"dataframe\">\n",
       "  <thead>\n",
       "    <tr style=\"text-align: right;\">\n",
       "      <th></th>\n",
       "      <th>barcode</th>\n",
       "    </tr>\n",
       "  </thead>\n",
       "  <tbody>\n",
       "    <tr>\n",
       "      <th>0</th>\n",
       "      <td>0</td>\n",
       "    </tr>\n",
       "    <tr>\n",
       "      <th>1</th>\n",
       "      <td>0</td>\n",
       "    </tr>\n",
       "    <tr>\n",
       "      <th>2</th>\n",
       "      <td>4</td>\n",
       "    </tr>\n",
       "    <tr>\n",
       "      <th>3</th>\n",
       "      <td>0</td>\n",
       "    </tr>\n",
       "    <tr>\n",
       "      <th>4</th>\n",
       "      <td>0</td>\n",
       "    </tr>\n",
       "    <tr>\n",
       "      <th>...</th>\n",
       "      <td>...</td>\n",
       "    </tr>\n",
       "    <tr>\n",
       "      <th>655</th>\n",
       "      <td>0</td>\n",
       "    </tr>\n",
       "    <tr>\n",
       "      <th>656</th>\n",
       "      <td>9</td>\n",
       "    </tr>\n",
       "    <tr>\n",
       "      <th>657</th>\n",
       "      <td>5</td>\n",
       "    </tr>\n",
       "    <tr>\n",
       "      <th>658</th>\n",
       "      <td>4</td>\n",
       "    </tr>\n",
       "    <tr>\n",
       "      <th>659</th>\n",
       "      <td>0</td>\n",
       "    </tr>\n",
       "  </tbody>\n",
       "</table>\n",
       "<p>660 rows × 1 columns</p>\n",
       "</div>"
      ],
      "text/plain": [
       "     barcode\n",
       "0          0\n",
       "1          0\n",
       "2          4\n",
       "3          0\n",
       "4          0\n",
       "..       ...\n",
       "655        0\n",
       "656        9\n",
       "657        5\n",
       "658        4\n",
       "659        0\n",
       "\n",
       "[660 rows x 1 columns]"
      ]
     },
     "execution_count": 74,
     "metadata": {},
     "output_type": "execute_result"
    }
   ],
   "source": [
    "# Assign cells to barcodes according to the max correlation\n",
    "cell_id = pd.DataFrame(np.argmax(cell_corr, axis=1), columns=['barcode'])\n",
    "cell_id"
   ]
  },
  {
   "cell_type": "code",
   "execution_count": 45,
   "id": "91a8e3a6",
   "metadata": {},
   "outputs": [],
   "source": [
    "# cell_id.loc[200:210]"
   ]
  },
  {
   "cell_type": "code",
   "execution_count": 46,
   "id": "e0451746",
   "metadata": {},
   "outputs": [],
   "source": [
    "# cell_id.to_csv('./result/crisprmap20210506_layer1out0123_cell_id_thresh6std.csv', index=False)"
   ]
  },
  {
   "cell_type": "code",
   "execution_count": 47,
   "id": "d50203e1",
   "metadata": {},
   "outputs": [
    {
     "data": {
      "text/plain": [
       "[1.183215756619957, 1.183215756619957]"
      ]
     },
     "execution_count": 47,
     "metadata": {},
     "output_type": "execute_result"
    }
   ],
   "source": [
    "heapq.nlargest(2, cell_corr[116,])"
   ]
  },
  {
   "cell_type": "code",
   "execution_count": 48,
   "id": "197a9d60",
   "metadata": {},
   "outputs": [],
   "source": [
    "def minmax(x, min_all, max_all):\n",
    "    y = (x-min_all)/max_all\n",
    "    return y"
   ]
  },
  {
   "cell_type": "code",
   "execution_count": 75,
   "id": "30d05e64",
   "metadata": {},
   "outputs": [
    {
     "data": {
      "text/html": [
       "<div>\n",
       "<style scoped>\n",
       "    .dataframe tbody tr th:only-of-type {\n",
       "        vertical-align: middle;\n",
       "    }\n",
       "\n",
       "    .dataframe tbody tr th {\n",
       "        vertical-align: top;\n",
       "    }\n",
       "\n",
       "    .dataframe thead th {\n",
       "        text-align: right;\n",
       "    }\n",
       "</style>\n",
       "<table border=\"1\" class=\"dataframe\">\n",
       "  <thead>\n",
       "    <tr style=\"text-align: right;\">\n",
       "      <th></th>\n",
       "      <th>barcode</th>\n",
       "      <th>max</th>\n",
       "      <th>second_max</th>\n",
       "      <th>quality</th>\n",
       "      <th>spots</th>\n",
       "    </tr>\n",
       "  </thead>\n",
       "  <tbody>\n",
       "    <tr>\n",
       "      <th>0</th>\n",
       "      <td>0</td>\n",
       "      <td>0.000000</td>\n",
       "      <td>0.000000</td>\n",
       "      <td>0.000000</td>\n",
       "      <td>0.0</td>\n",
       "    </tr>\n",
       "    <tr>\n",
       "      <th>1</th>\n",
       "      <td>0</td>\n",
       "      <td>0.000000</td>\n",
       "      <td>0.000000</td>\n",
       "      <td>0.000000</td>\n",
       "      <td>0.0</td>\n",
       "    </tr>\n",
       "    <tr>\n",
       "      <th>2</th>\n",
       "      <td>4</td>\n",
       "      <td>0.852803</td>\n",
       "      <td>0.852803</td>\n",
       "      <td>0.000000</td>\n",
       "      <td>5.0</td>\n",
       "    </tr>\n",
       "    <tr>\n",
       "      <th>3</th>\n",
       "      <td>0</td>\n",
       "      <td>0.000000</td>\n",
       "      <td>0.000000</td>\n",
       "      <td>0.000000</td>\n",
       "      <td>0.0</td>\n",
       "    </tr>\n",
       "    <tr>\n",
       "      <th>4</th>\n",
       "      <td>0</td>\n",
       "      <td>0.000000</td>\n",
       "      <td>0.000000</td>\n",
       "      <td>0.000000</td>\n",
       "      <td>0.0</td>\n",
       "    </tr>\n",
       "    <tr>\n",
       "      <th>...</th>\n",
       "      <td>...</td>\n",
       "      <td>...</td>\n",
       "      <td>...</td>\n",
       "      <td>...</td>\n",
       "      <td>...</td>\n",
       "    </tr>\n",
       "    <tr>\n",
       "      <th>655</th>\n",
       "      <td>0</td>\n",
       "      <td>0.872595</td>\n",
       "      <td>0.668989</td>\n",
       "      <td>0.203605</td>\n",
       "      <td>47.0</td>\n",
       "    </tr>\n",
       "    <tr>\n",
       "      <th>656</th>\n",
       "      <td>9</td>\n",
       "      <td>0.994736</td>\n",
       "      <td>0.539999</td>\n",
       "      <td>0.454736</td>\n",
       "      <td>39.0</td>\n",
       "    </tr>\n",
       "    <tr>\n",
       "      <th>657</th>\n",
       "      <td>5</td>\n",
       "      <td>0.923870</td>\n",
       "      <td>0.710669</td>\n",
       "      <td>0.213201</td>\n",
       "      <td>19.0</td>\n",
       "    </tr>\n",
       "    <tr>\n",
       "      <th>658</th>\n",
       "      <td>4</td>\n",
       "      <td>0.993146</td>\n",
       "      <td>0.574979</td>\n",
       "      <td>0.418167</td>\n",
       "      <td>21.0</td>\n",
       "    </tr>\n",
       "    <tr>\n",
       "      <th>659</th>\n",
       "      <td>0</td>\n",
       "      <td>1.000000</td>\n",
       "      <td>0.500000</td>\n",
       "      <td>0.500000</td>\n",
       "      <td>4.0</td>\n",
       "    </tr>\n",
       "  </tbody>\n",
       "</table>\n",
       "<p>660 rows × 5 columns</p>\n",
       "</div>"
      ],
      "text/plain": [
       "     barcode       max  second_max   quality  spots\n",
       "0          0  0.000000    0.000000  0.000000    0.0\n",
       "1          0  0.000000    0.000000  0.000000    0.0\n",
       "2          4  0.852803    0.852803  0.000000    5.0\n",
       "3          0  0.000000    0.000000  0.000000    0.0\n",
       "4          0  0.000000    0.000000  0.000000    0.0\n",
       "..       ...       ...         ...       ...    ...\n",
       "655        0  0.872595    0.668989  0.203605   47.0\n",
       "656        9  0.994736    0.539999  0.454736   39.0\n",
       "657        5  0.923870    0.710669  0.213201   19.0\n",
       "658        4  0.993146    0.574979  0.418167   21.0\n",
       "659        0  1.000000    0.500000  0.500000    4.0\n",
       "\n",
       "[660 rows x 5 columns]"
      ]
     },
     "execution_count": 75,
     "metadata": {},
     "output_type": "execute_result"
    }
   ],
   "source": [
    "cell_id['max'] = minmax(np.max(cell_corr, axis=1), min_all=np.min(cell_corr), max_all=np.max(cell_corr))\n",
    "cell_id['second_max'] = minmax([heapq.nlargest(2, cell_corr[i,])[1] for i in cell_id.index], min_all=np.min(cell_corr), max_all=np.max(cell_corr))\n",
    "# cell_id['second_max'] = [heapq.nlargest(2, cell_corr[i,])[1] for i in cell_id.index]\n",
    "cell_id['quality'] = cell_id['max'] - cell_id['second_max']\n",
    "cell_id['spots'] = np.sum(cell_table, axis=1)\n",
    "# cell_id = cell_id.sort_values(by=['quality'], ascending=False)\n",
    "cell_id"
   ]
  },
  {
   "cell_type": "code",
   "execution_count": 76,
   "id": "03b8973d",
   "metadata": {},
   "outputs": [],
   "source": [
    "# cell_id.head(40)"
   ]
  },
  {
   "cell_type": "code",
   "execution_count": 67,
   "id": "66e78a73",
   "metadata": {},
   "outputs": [
    {
     "data": {
      "text/plain": [
       "0    0.0\n",
       "1    0.0\n",
       "2    0.0\n",
       "3    4.0\n",
       "4    0.0\n",
       "5    0.0\n",
       "6    0.0\n",
       "7    0.0\n",
       "8    1.0\n",
       "9    0.0\n",
       "Name: 406, dtype: float64"
      ]
     },
     "execution_count": 67,
     "metadata": {},
     "output_type": "execute_result"
    }
   ],
   "source": [
    "pd.DataFrame(cell_table).loc[406,]"
   ]
  },
  {
   "cell_type": "code",
   "execution_count": 69,
   "id": "be648cd9",
   "metadata": {},
   "outputs": [
    {
     "data": {
      "text/plain": [
       "(660,)"
      ]
     },
     "execution_count": 69,
     "metadata": {},
     "output_type": "execute_result"
    }
   ],
   "source": [
    "np.sum(cell_table, axis=1).shape"
   ]
  },
  {
   "cell_type": "code",
   "execution_count": 80,
   "id": "e8cc3fba",
   "metadata": {},
   "outputs": [
    {
     "data": {
      "text/html": [
       "<div>\n",
       "<style scoped>\n",
       "    .dataframe tbody tr th:only-of-type {\n",
       "        vertical-align: middle;\n",
       "    }\n",
       "\n",
       "    .dataframe tbody tr th {\n",
       "        vertical-align: top;\n",
       "    }\n",
       "\n",
       "    .dataframe thead th {\n",
       "        text-align: right;\n",
       "    }\n",
       "</style>\n",
       "<table border=\"1\" class=\"dataframe\">\n",
       "  <thead>\n",
       "    <tr style=\"text-align: right;\">\n",
       "      <th></th>\n",
       "      <th>barcode</th>\n",
       "      <th>max</th>\n",
       "      <th>second_max</th>\n",
       "      <th>quality</th>\n",
       "      <th>spots</th>\n",
       "    </tr>\n",
       "  </thead>\n",
       "  <tbody>\n",
       "    <tr>\n",
       "      <th>555</th>\n",
       "      <td>4</td>\n",
       "      <td>0.998070</td>\n",
       "      <td>0.528892</td>\n",
       "      <td>0.469178</td>\n",
       "      <td>125.0</td>\n",
       "    </tr>\n",
       "    <tr>\n",
       "      <th>125</th>\n",
       "      <td>4</td>\n",
       "      <td>0.757896</td>\n",
       "      <td>0.708198</td>\n",
       "      <td>0.049698</td>\n",
       "      <td>117.0</td>\n",
       "    </tr>\n",
       "    <tr>\n",
       "      <th>504</th>\n",
       "      <td>8</td>\n",
       "      <td>0.875905</td>\n",
       "      <td>0.841779</td>\n",
       "      <td>0.034126</td>\n",
       "      <td>108.0</td>\n",
       "    </tr>\n",
       "    <tr>\n",
       "      <th>405</th>\n",
       "      <td>6</td>\n",
       "      <td>0.958857</td>\n",
       "      <td>0.620437</td>\n",
       "      <td>0.338420</td>\n",
       "      <td>106.0</td>\n",
       "    </tr>\n",
       "    <tr>\n",
       "      <th>604</th>\n",
       "      <td>6</td>\n",
       "      <td>0.953074</td>\n",
       "      <td>0.673367</td>\n",
       "      <td>0.279706</td>\n",
       "      <td>103.0</td>\n",
       "    </tr>\n",
       "    <tr>\n",
       "      <th>328</th>\n",
       "      <td>6</td>\n",
       "      <td>0.840318</td>\n",
       "      <td>0.713477</td>\n",
       "      <td>0.126840</td>\n",
       "      <td>95.0</td>\n",
       "    </tr>\n",
       "    <tr>\n",
       "      <th>443</th>\n",
       "      <td>6</td>\n",
       "      <td>0.967186</td>\n",
       "      <td>0.636927</td>\n",
       "      <td>0.330259</td>\n",
       "      <td>94.0</td>\n",
       "    </tr>\n",
       "    <tr>\n",
       "      <th>306</th>\n",
       "      <td>9</td>\n",
       "      <td>0.939793</td>\n",
       "      <td>0.740443</td>\n",
       "      <td>0.199350</td>\n",
       "      <td>90.0</td>\n",
       "    </tr>\n",
       "    <tr>\n",
       "      <th>550</th>\n",
       "      <td>8</td>\n",
       "      <td>0.862507</td>\n",
       "      <td>0.847636</td>\n",
       "      <td>0.014871</td>\n",
       "      <td>89.0</td>\n",
       "    </tr>\n",
       "    <tr>\n",
       "      <th>379</th>\n",
       "      <td>6</td>\n",
       "      <td>0.896262</td>\n",
       "      <td>0.687544</td>\n",
       "      <td>0.208719</td>\n",
       "      <td>85.0</td>\n",
       "    </tr>\n",
       "    <tr>\n",
       "      <th>486</th>\n",
       "      <td>8</td>\n",
       "      <td>0.931891</td>\n",
       "      <td>0.776576</td>\n",
       "      <td>0.155315</td>\n",
       "      <td>84.0</td>\n",
       "    </tr>\n",
       "    <tr>\n",
       "      <th>633</th>\n",
       "      <td>4</td>\n",
       "      <td>0.997055</td>\n",
       "      <td>0.562441</td>\n",
       "      <td>0.434614</td>\n",
       "      <td>82.0</td>\n",
       "    </tr>\n",
       "    <tr>\n",
       "      <th>296</th>\n",
       "      <td>4</td>\n",
       "      <td>0.958515</td>\n",
       "      <td>0.684653</td>\n",
       "      <td>0.273861</td>\n",
       "      <td>82.0</td>\n",
       "    </tr>\n",
       "    <tr>\n",
       "      <th>450</th>\n",
       "      <td>6</td>\n",
       "      <td>0.930834</td>\n",
       "      <td>0.670200</td>\n",
       "      <td>0.260633</td>\n",
       "      <td>82.0</td>\n",
       "    </tr>\n",
       "    <tr>\n",
       "      <th>638</th>\n",
       "      <td>4</td>\n",
       "      <td>0.999600</td>\n",
       "      <td>0.506126</td>\n",
       "      <td>0.493473</td>\n",
       "      <td>81.0</td>\n",
       "    </tr>\n",
       "    <tr>\n",
       "      <th>142</th>\n",
       "      <td>4</td>\n",
       "      <td>0.992182</td>\n",
       "      <td>0.568851</td>\n",
       "      <td>0.423331</td>\n",
       "      <td>81.0</td>\n",
       "    </tr>\n",
       "    <tr>\n",
       "      <th>366</th>\n",
       "      <td>1</td>\n",
       "      <td>0.732338</td>\n",
       "      <td>0.507003</td>\n",
       "      <td>0.225335</td>\n",
       "      <td>80.0</td>\n",
       "    </tr>\n",
       "    <tr>\n",
       "      <th>229</th>\n",
       "      <td>0</td>\n",
       "      <td>0.874818</td>\n",
       "      <td>0.622093</td>\n",
       "      <td>0.252725</td>\n",
       "      <td>77.0</td>\n",
       "    </tr>\n",
       "    <tr>\n",
       "      <th>611</th>\n",
       "      <td>6</td>\n",
       "      <td>0.993669</td>\n",
       "      <td>0.563974</td>\n",
       "      <td>0.429695</td>\n",
       "      <td>77.0</td>\n",
       "    </tr>\n",
       "    <tr>\n",
       "      <th>66</th>\n",
       "      <td>4</td>\n",
       "      <td>0.864575</td>\n",
       "      <td>0.727029</td>\n",
       "      <td>0.137546</td>\n",
       "      <td>73.0</td>\n",
       "    </tr>\n",
       "  </tbody>\n",
       "</table>\n",
       "</div>"
      ],
      "text/plain": [
       "     barcode       max  second_max   quality  spots\n",
       "555        4  0.998070    0.528892  0.469178  125.0\n",
       "125        4  0.757896    0.708198  0.049698  117.0\n",
       "504        8  0.875905    0.841779  0.034126  108.0\n",
       "405        6  0.958857    0.620437  0.338420  106.0\n",
       "604        6  0.953074    0.673367  0.279706  103.0\n",
       "328        6  0.840318    0.713477  0.126840   95.0\n",
       "443        6  0.967186    0.636927  0.330259   94.0\n",
       "306        9  0.939793    0.740443  0.199350   90.0\n",
       "550        8  0.862507    0.847636  0.014871   89.0\n",
       "379        6  0.896262    0.687544  0.208719   85.0\n",
       "486        8  0.931891    0.776576  0.155315   84.0\n",
       "633        4  0.997055    0.562441  0.434614   82.0\n",
       "296        4  0.958515    0.684653  0.273861   82.0\n",
       "450        6  0.930834    0.670200  0.260633   82.0\n",
       "638        4  0.999600    0.506126  0.493473   81.0\n",
       "142        4  0.992182    0.568851  0.423331   81.0\n",
       "366        1  0.732338    0.507003  0.225335   80.0\n",
       "229        0  0.874818    0.622093  0.252725   77.0\n",
       "611        6  0.993669    0.563974  0.429695   77.0\n",
       "66         4  0.864575    0.727029  0.137546   73.0"
      ]
     },
     "execution_count": 80,
     "metadata": {},
     "output_type": "execute_result"
    }
   ],
   "source": [
    "cell_id.sort_values(by=['spots'], ascending=False).head(20)"
   ]
  },
  {
   "cell_type": "code",
   "execution_count": 81,
   "id": "07747012",
   "metadata": {},
   "outputs": [
    {
     "data": {
      "text/html": [
       "<div>\n",
       "<style scoped>\n",
       "    .dataframe tbody tr th:only-of-type {\n",
       "        vertical-align: middle;\n",
       "    }\n",
       "\n",
       "    .dataframe tbody tr th {\n",
       "        vertical-align: top;\n",
       "    }\n",
       "\n",
       "    .dataframe thead th {\n",
       "        text-align: right;\n",
       "    }\n",
       "</style>\n",
       "<table border=\"1\" class=\"dataframe\">\n",
       "  <thead>\n",
       "    <tr style=\"text-align: right;\">\n",
       "      <th></th>\n",
       "      <th>barcode</th>\n",
       "      <th>max</th>\n",
       "      <th>second_max</th>\n",
       "      <th>quality</th>\n",
       "      <th>spots</th>\n",
       "    </tr>\n",
       "  </thead>\n",
       "  <tbody>\n",
       "    <tr>\n",
       "      <th>291</th>\n",
       "      <td>1</td>\n",
       "      <td>0.938876</td>\n",
       "      <td>0.000000</td>\n",
       "      <td>0.938876</td>\n",
       "      <td>60.0</td>\n",
       "    </tr>\n",
       "    <tr>\n",
       "      <th>406</th>\n",
       "      <td>1</td>\n",
       "      <td>0.857493</td>\n",
       "      <td>0.000000</td>\n",
       "      <td>0.857493</td>\n",
       "      <td>5.0</td>\n",
       "    </tr>\n",
       "    <tr>\n",
       "      <th>359</th>\n",
       "      <td>1</td>\n",
       "      <td>0.923846</td>\n",
       "      <td>0.074906</td>\n",
       "      <td>0.848940</td>\n",
       "      <td>40.0</td>\n",
       "    </tr>\n",
       "    <tr>\n",
       "      <th>98</th>\n",
       "      <td>1</td>\n",
       "      <td>0.920358</td>\n",
       "      <td>0.076696</td>\n",
       "      <td>0.843661</td>\n",
       "      <td>26.0</td>\n",
       "    </tr>\n",
       "    <tr>\n",
       "      <th>156</th>\n",
       "      <td>1</td>\n",
       "      <td>0.925711</td>\n",
       "      <td>0.100987</td>\n",
       "      <td>0.824724</td>\n",
       "      <td>67.0</td>\n",
       "    </tr>\n",
       "    <tr>\n",
       "      <th>118</th>\n",
       "      <td>1</td>\n",
       "      <td>0.925208</td>\n",
       "      <td>0.102801</td>\n",
       "      <td>0.822407</td>\n",
       "      <td>43.0</td>\n",
       "    </tr>\n",
       "    <tr>\n",
       "      <th>83</th>\n",
       "      <td>1</td>\n",
       "      <td>0.904194</td>\n",
       "      <td>0.082199</td>\n",
       "      <td>0.821995</td>\n",
       "      <td>12.0</td>\n",
       "    </tr>\n",
       "    <tr>\n",
       "      <th>283</th>\n",
       "      <td>1</td>\n",
       "      <td>0.920980</td>\n",
       "      <td>0.099565</td>\n",
       "      <td>0.821414</td>\n",
       "      <td>43.0</td>\n",
       "    </tr>\n",
       "    <tr>\n",
       "      <th>299</th>\n",
       "      <td>1</td>\n",
       "      <td>0.927498</td>\n",
       "      <td>0.132500</td>\n",
       "      <td>0.794998</td>\n",
       "      <td>42.0</td>\n",
       "    </tr>\n",
       "    <tr>\n",
       "      <th>380</th>\n",
       "      <td>1</td>\n",
       "      <td>0.880812</td>\n",
       "      <td>0.091119</td>\n",
       "      <td>0.789694</td>\n",
       "      <td>36.0</td>\n",
       "    </tr>\n",
       "    <tr>\n",
       "      <th>174</th>\n",
       "      <td>1</td>\n",
       "      <td>0.823754</td>\n",
       "      <td>0.043355</td>\n",
       "      <td>0.780399</td>\n",
       "      <td>20.0</td>\n",
       "    </tr>\n",
       "    <tr>\n",
       "      <th>362</th>\n",
       "      <td>1</td>\n",
       "      <td>0.917375</td>\n",
       "      <td>0.138996</td>\n",
       "      <td>0.778379</td>\n",
       "      <td>41.0</td>\n",
       "    </tr>\n",
       "    <tr>\n",
       "      <th>321</th>\n",
       "      <td>1</td>\n",
       "      <td>0.886158</td>\n",
       "      <td>0.110770</td>\n",
       "      <td>0.775388</td>\n",
       "      <td>19.0</td>\n",
       "    </tr>\n",
       "    <tr>\n",
       "      <th>78</th>\n",
       "      <td>1</td>\n",
       "      <td>0.868271</td>\n",
       "      <td>0.118401</td>\n",
       "      <td>0.749870</td>\n",
       "      <td>27.0</td>\n",
       "    </tr>\n",
       "    <tr>\n",
       "      <th>91</th>\n",
       "      <td>1</td>\n",
       "      <td>0.942881</td>\n",
       "      <td>0.209529</td>\n",
       "      <td>0.733352</td>\n",
       "      <td>34.0</td>\n",
       "    </tr>\n",
       "    <tr>\n",
       "      <th>335</th>\n",
       "      <td>1</td>\n",
       "      <td>0.879883</td>\n",
       "      <td>0.146647</td>\n",
       "      <td>0.733236</td>\n",
       "      <td>30.0</td>\n",
       "    </tr>\n",
       "    <tr>\n",
       "      <th>364</th>\n",
       "      <td>1</td>\n",
       "      <td>0.881581</td>\n",
       "      <td>0.163256</td>\n",
       "      <td>0.718325</td>\n",
       "      <td>35.0</td>\n",
       "    </tr>\n",
       "    <tr>\n",
       "      <th>456</th>\n",
       "      <td>1</td>\n",
       "      <td>0.773389</td>\n",
       "      <td>0.072505</td>\n",
       "      <td>0.700884</td>\n",
       "      <td>36.0</td>\n",
       "    </tr>\n",
       "    <tr>\n",
       "      <th>332</th>\n",
       "      <td>1</td>\n",
       "      <td>0.815693</td>\n",
       "      <td>0.125491</td>\n",
       "      <td>0.690201</td>\n",
       "      <td>15.0</td>\n",
       "    </tr>\n",
       "    <tr>\n",
       "      <th>70</th>\n",
       "      <td>1</td>\n",
       "      <td>0.829515</td>\n",
       "      <td>0.146385</td>\n",
       "      <td>0.683130</td>\n",
       "      <td>20.0</td>\n",
       "    </tr>\n",
       "  </tbody>\n",
       "</table>\n",
       "</div>"
      ],
      "text/plain": [
       "     barcode       max  second_max   quality  spots\n",
       "291        1  0.938876    0.000000  0.938876   60.0\n",
       "406        1  0.857493    0.000000  0.857493    5.0\n",
       "359        1  0.923846    0.074906  0.848940   40.0\n",
       "98         1  0.920358    0.076696  0.843661   26.0\n",
       "156        1  0.925711    0.100987  0.824724   67.0\n",
       "118        1  0.925208    0.102801  0.822407   43.0\n",
       "83         1  0.904194    0.082199  0.821995   12.0\n",
       "283        1  0.920980    0.099565  0.821414   43.0\n",
       "299        1  0.927498    0.132500  0.794998   42.0\n",
       "380        1  0.880812    0.091119  0.789694   36.0\n",
       "174        1  0.823754    0.043355  0.780399   20.0\n",
       "362        1  0.917375    0.138996  0.778379   41.0\n",
       "321        1  0.886158    0.110770  0.775388   19.0\n",
       "78         1  0.868271    0.118401  0.749870   27.0\n",
       "91         1  0.942881    0.209529  0.733352   34.0\n",
       "335        1  0.879883    0.146647  0.733236   30.0\n",
       "364        1  0.881581    0.163256  0.718325   35.0\n",
       "456        1  0.773389    0.072505  0.700884   36.0\n",
       "332        1  0.815693    0.125491  0.690201   15.0\n",
       "70         1  0.829515    0.146385  0.683130   20.0"
      ]
     },
     "execution_count": 81,
     "metadata": {},
     "output_type": "execute_result"
    }
   ],
   "source": [
    "cell_id.sort_values(by=['quality'], ascending=False).head(20)"
   ]
  },
  {
   "cell_type": "code",
   "execution_count": 50,
   "id": "c75e4ef4",
   "metadata": {},
   "outputs": [
    {
     "data": {
      "text/plain": [
       "<AxesSubplot:xlabel='quality', ylabel='Count'>"
      ]
     },
     "execution_count": 50,
     "metadata": {},
     "output_type": "execute_result"
    },
    {
     "data": {
      "image/png": "[encoded data removed]",
      "text/plain": [
       "<Figure size 432x288 with 1 Axes>"
      ]
     },
     "metadata": {
      "needs_background": "light"
     },
     "output_type": "display_data"
    }
   ],
   "source": [
    "import seaborn as sns\n",
    "sns.histplot(data=cell_id, x=\"quality\")"
   ]
  },
  {
   "cell_type": "code",
   "execution_count": 51,
   "id": "8d824ff6",
   "metadata": {},
   "outputs": [
    {
     "data": {
      "text/plain": [
       "<AxesSubplot:xlabel='max', ylabel='Count'>"
      ]
     },
     "execution_count": 51,
     "metadata": {},
     "output_type": "execute_result"
    },
    {
     "data": {
      "image/png": "[encoded data removed]",
      "text/plain": [
       "<Figure size 432x288 with 1 Axes>"
      ]
     },
     "metadata": {
      "needs_background": "light"
     },
     "output_type": "display_data"
    }
   ],
   "source": [
    "import seaborn as sns\n",
    "sns.histplot(data=cell_id, x=\"max\")"
   ]
  },
  {
   "cell_type": "code",
   "execution_count": 52,
   "id": "95c8b7fc",
   "metadata": {},
   "outputs": [
    {
     "data": {
      "text/plain": [
       "<AxesSubplot:xlabel='second_max', ylabel='Count'>"
      ]
     },
     "execution_count": 52,
     "metadata": {},
     "output_type": "execute_result"
    },
    {
     "data": {
      "image/png": "[encoded data removed]",
      "text/plain": [
       "<Figure size 432x288 with 1 Axes>"
      ]
     },
     "metadata": {
      "needs_background": "light"
     },
     "output_type": "display_data"
    }
   ],
   "source": [
    "import seaborn as sns\n",
    "sns.histplot(data=cell_id, x=\"second_max\")"
   ]
  },
  {
   "cell_type": "code",
   "execution_count": 53,
   "id": "89378b8c",
   "metadata": {},
   "outputs": [
    {
     "data": {
      "text/html": [
       "<div>\n",
       "<style scoped>\n",
       "    .dataframe tbody tr th:only-of-type {\n",
       "        vertical-align: middle;\n",
       "    }\n",
       "\n",
       "    .dataframe tbody tr th {\n",
       "        vertical-align: top;\n",
       "    }\n",
       "\n",
       "    .dataframe thead th {\n",
       "        text-align: right;\n",
       "    }\n",
       "</style>\n",
       "<table border=\"1\" class=\"dataframe\">\n",
       "  <thead>\n",
       "    <tr style=\"text-align: right;\">\n",
       "      <th></th>\n",
       "      <th>barcode</th>\n",
       "      <th>max</th>\n",
       "      <th>second_max</th>\n",
       "      <th>quality</th>\n",
       "    </tr>\n",
       "  </thead>\n",
       "  <tbody>\n",
       "    <tr>\n",
       "      <th>291</th>\n",
       "      <td>1</td>\n",
       "      <td>0.938876</td>\n",
       "      <td>0.000000</td>\n",
       "      <td>0.938876</td>\n",
       "    </tr>\n",
       "    <tr>\n",
       "      <th>406</th>\n",
       "      <td>1</td>\n",
       "      <td>0.857493</td>\n",
       "      <td>0.000000</td>\n",
       "      <td>0.857493</td>\n",
       "    </tr>\n",
       "    <tr>\n",
       "      <th>359</th>\n",
       "      <td>1</td>\n",
       "      <td>0.923846</td>\n",
       "      <td>0.074906</td>\n",
       "      <td>0.848940</td>\n",
       "    </tr>\n",
       "    <tr>\n",
       "      <th>98</th>\n",
       "      <td>1</td>\n",
       "      <td>0.920358</td>\n",
       "      <td>0.076696</td>\n",
       "      <td>0.843661</td>\n",
       "    </tr>\n",
       "    <tr>\n",
       "      <th>156</th>\n",
       "      <td>1</td>\n",
       "      <td>0.925711</td>\n",
       "      <td>0.100987</td>\n",
       "      <td>0.824724</td>\n",
       "    </tr>\n",
       "    <tr>\n",
       "      <th>118</th>\n",
       "      <td>1</td>\n",
       "      <td>0.925208</td>\n",
       "      <td>0.102801</td>\n",
       "      <td>0.822407</td>\n",
       "    </tr>\n",
       "    <tr>\n",
       "      <th>83</th>\n",
       "      <td>1</td>\n",
       "      <td>0.904194</td>\n",
       "      <td>0.082199</td>\n",
       "      <td>0.821995</td>\n",
       "    </tr>\n",
       "    <tr>\n",
       "      <th>283</th>\n",
       "      <td>1</td>\n",
       "      <td>0.920980</td>\n",
       "      <td>0.099565</td>\n",
       "      <td>0.821414</td>\n",
       "    </tr>\n",
       "    <tr>\n",
       "      <th>299</th>\n",
       "      <td>1</td>\n",
       "      <td>0.927498</td>\n",
       "      <td>0.132500</td>\n",
       "      <td>0.794998</td>\n",
       "    </tr>\n",
       "    <tr>\n",
       "      <th>380</th>\n",
       "      <td>1</td>\n",
       "      <td>0.880812</td>\n",
       "      <td>0.091119</td>\n",
       "      <td>0.789694</td>\n",
       "    </tr>\n",
       "    <tr>\n",
       "      <th>174</th>\n",
       "      <td>1</td>\n",
       "      <td>0.823754</td>\n",
       "      <td>0.043355</td>\n",
       "      <td>0.780399</td>\n",
       "    </tr>\n",
       "    <tr>\n",
       "      <th>362</th>\n",
       "      <td>1</td>\n",
       "      <td>0.917375</td>\n",
       "      <td>0.138996</td>\n",
       "      <td>0.778379</td>\n",
       "    </tr>\n",
       "    <tr>\n",
       "      <th>321</th>\n",
       "      <td>1</td>\n",
       "      <td>0.886158</td>\n",
       "      <td>0.110770</td>\n",
       "      <td>0.775388</td>\n",
       "    </tr>\n",
       "    <tr>\n",
       "      <th>78</th>\n",
       "      <td>1</td>\n",
       "      <td>0.868271</td>\n",
       "      <td>0.118401</td>\n",
       "      <td>0.749870</td>\n",
       "    </tr>\n",
       "    <tr>\n",
       "      <th>91</th>\n",
       "      <td>1</td>\n",
       "      <td>0.942881</td>\n",
       "      <td>0.209529</td>\n",
       "      <td>0.733352</td>\n",
       "    </tr>\n",
       "    <tr>\n",
       "      <th>335</th>\n",
       "      <td>1</td>\n",
       "      <td>0.879883</td>\n",
       "      <td>0.146647</td>\n",
       "      <td>0.733236</td>\n",
       "    </tr>\n",
       "    <tr>\n",
       "      <th>364</th>\n",
       "      <td>1</td>\n",
       "      <td>0.881581</td>\n",
       "      <td>0.163256</td>\n",
       "      <td>0.718325</td>\n",
       "    </tr>\n",
       "    <tr>\n",
       "      <th>456</th>\n",
       "      <td>1</td>\n",
       "      <td>0.773389</td>\n",
       "      <td>0.072505</td>\n",
       "      <td>0.700884</td>\n",
       "    </tr>\n",
       "  </tbody>\n",
       "</table>\n",
       "</div>"
      ],
      "text/plain": [
       "     barcode       max  second_max   quality\n",
       "291        1  0.938876    0.000000  0.938876\n",
       "406        1  0.857493    0.000000  0.857493\n",
       "359        1  0.923846    0.074906  0.848940\n",
       "98         1  0.920358    0.076696  0.843661\n",
       "156        1  0.925711    0.100987  0.824724\n",
       "118        1  0.925208    0.102801  0.822407\n",
       "83         1  0.904194    0.082199  0.821995\n",
       "283        1  0.920980    0.099565  0.821414\n",
       "299        1  0.927498    0.132500  0.794998\n",
       "380        1  0.880812    0.091119  0.789694\n",
       "174        1  0.823754    0.043355  0.780399\n",
       "362        1  0.917375    0.138996  0.778379\n",
       "321        1  0.886158    0.110770  0.775388\n",
       "78         1  0.868271    0.118401  0.749870\n",
       "91         1  0.942881    0.209529  0.733352\n",
       "335        1  0.879883    0.146647  0.733236\n",
       "364        1  0.881581    0.163256  0.718325\n",
       "456        1  0.773389    0.072505  0.700884"
      ]
     },
     "execution_count": 53,
     "metadata": {},
     "output_type": "execute_result"
    }
   ],
   "source": [
    "cell_id[cell_id['quality']>0.7]"
   ]
  },
  {
   "cell_type": "code",
   "execution_count": 54,
   "id": "611e2e6a",
   "metadata": {},
   "outputs": [
    {
     "data": {
      "text/plain": [
       "<matplotlib.image.AxesImage at 0x7f919d7e6f10>"
      ]
     },
     "execution_count": 54,
     "metadata": {},
     "output_type": "execute_result"
    },
    {
     "data": {
      "image/png": "[encoded data removed]",
      "text/plain": [
       "<Figure size 1500x1000 with 1 Axes>"
      ]
     },
     "metadata": {
      "needs_background": "light"
     },
     "output_type": "display_data"
    }
   ],
   "source": [
    "# Possibly plot which cells have high quality scores\n",
    "high_quality = cell_id[cell_id['quality']>0.7]\n",
    "high_quality_mem = np.zeros(masks_mem.shape)\n",
    "for i in high_quality.index:\n",
    "    high_quality_mem[np.array(masks_mem)==i] = i\n",
    "plt.figure(dpi=250)\n",
    "plt.imshow(high_quality_mem)"
   ]
  },
  {
   "cell_type": "code",
   "execution_count": 55,
   "id": "49bc16fd",
   "metadata": {},
   "outputs": [],
   "source": [
    "# sns.histplot(data=cell_id, x=\"max\")"
   ]
  },
  {
   "cell_type": "code",
   "execution_count": 82,
   "id": "4beb4a98",
   "metadata": {},
   "outputs": [],
   "source": [
    "# set(cell_id['max'])"
   ]
  },
  {
   "cell_type": "code",
   "execution_count": 57,
   "id": "505d23c4",
   "metadata": {},
   "outputs": [
    {
     "data": {
      "text/plain": [
       "1.4142134909445272"
      ]
     },
     "execution_count": 57,
     "metadata": {},
     "output_type": "execute_result"
    }
   ],
   "source": [
    "np.max(cell_corr)"
   ]
  },
  {
   "cell_type": "code",
   "execution_count": 58,
   "id": "02b89e90",
   "metadata": {},
   "outputs": [
    {
     "data": {
      "text/plain": [
       "(660, 10)"
      ]
     },
     "execution_count": 58,
     "metadata": {},
     "output_type": "execute_result"
    }
   ],
   "source": [
    "cell_corr.shape"
   ]
  },
  {
   "cell_type": "code",
   "execution_count": 83,
   "id": "236249f1",
   "metadata": {},
   "outputs": [
    {
     "data": {
      "text/plain": [
       "<AxesSubplot:xlabel='spots', ylabel='Count'>"
      ]
     },
     "execution_count": 83,
     "metadata": {},
     "output_type": "execute_result"
    },
    {
     "data": {
      "image/png": "[encoded data removed]",
      "text/plain": [
       "<Figure size 432x288 with 1 Axes>"
      ]
     },
     "metadata": {
      "needs_background": "light"
     },
     "output_type": "display_data"
    }
   ],
   "source": [
    "sns.histplot(data=cell_id, x=\"spots\")"
   ]
  },
  {
   "cell_type": "markdown",
   "id": "46a3488a",
   "metadata": {},
   "source": [
    "<!-- list1 = [10, 20, 4, 45, 99]\n",
    " \n",
    "# new_list is a set of list1\n",
    "new_list = set(list1)\n",
    " \n",
    "# removing the largest element from temp list\n",
    "new_list.remove(max(new_list))\n",
    " \n",
    "# elements in original list are not changed\n",
    "# print(list1)\n",
    " \n",
    "print(max(new_list)) -->"
   ]
  }
 ],
 "metadata": {
  "environment": {
   "name": "tf2-gpu.2-5.m71",
   "type": "gcloud",
   "uri": "gcr.io/deeplearning-platform-release/tf2-gpu.2-5:m71"
  },
  "kernelspec": {
   "display_name": "Python 3",
   "language": "python",
   "name": "python3"
  },
  "language_info": {
   "codemirror_mode": {
    "name": "ipython",
    "version": 3
   },
   "file_extension": ".py",
   "mimetype": "text/x-python",
   "name": "python",
   "nbconvert_exporter": "python",
   "pygments_lexer": "ipython3",
   "version": "3.7.10"
  }
 },
 "nbformat": 4,
 "nbformat_minor": 5
}

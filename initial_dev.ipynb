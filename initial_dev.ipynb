{
 "cells": [
  {
   "cell_type": "markdown",
   "id": "5543374e",
   "metadata": {},
   "source": [
    "Data from the experiment on 2021/05/06: this file puts data in channels * cycles * z * y * x"
   ]
  },
  {
   "cell_type": "markdown",
   "id": "ad185395",
   "metadata": {},
   "source": [
    "# Preprocessing"
   ]
  },
  {
   "cell_type": "code",
   "execution_count": 1,
   "id": "b81e510b",
   "metadata": {},
   "outputs": [],
   "source": [
    "import heapq\n",
    "import os\n",
    "import sys\n",
    "import numpy as np\n",
    "import pandas as pd\n",
    "import tifffile as tif\n",
    "import h5py\n",
    "from skimage import io, img_as_float32\n",
    "import matplotlib.pyplot as plt\n",
    "from scipy import ndimage\n",
    "import IPython.display\n",
    "# import PIL\n",
    "%matplotlib inline\n",
    "%load_ext autoreload\n",
    "%autoreload 2\n",
    "import os, sys\n",
    "sys.path.append(\"../bardensr\")\n",
    "import bardensr\n",
    "import bardensr.plotting"
   ]
  },
  {
   "cell_type": "code",
   "execution_count": 2,
   "id": "b795de3a",
   "metadata": {},
   "outputs": [
    {
     "name": "stdout",
     "output_type": "stream",
     "text": [
      "./data/crisprmap20210506/amp-ch1-cycle0.tiff\n",
      "./data/crisprmap20210506/amp-ch1-cycle1.tiff\n",
      "./data/crisprmap20210506/amp-ch1-cycle2.tiff\n",
      "./data/crisprmap20210506/amp-ch1-cycle3.tiff\n",
      "./data/crisprmap20210506/amp-ch1-cycle4.tiff\n",
      "./data/crisprmap20210506/amp-ch2-cycle0.tiff\n",
      "./data/crisprmap20210506/amp-ch2-cycle1.tiff\n",
      "./data/crisprmap20210506/amp-ch2-cycle2.tiff\n",
      "./data/crisprmap20210506/amp-ch2-cycle3.tiff\n",
      "./data/crisprmap20210506/amp-ch2-cycle4.tiff\n"
     ]
    }
   ],
   "source": [
    "n_channels = 2\n",
    "n_cycles = 5\n",
    "\n",
    "img = tif.imread('./data/crisprmap20210506/amp-ch1-cycle0.tiff')\n",
    "img_size = img.shape[:2]\n",
    "\n",
    "X = np.zeros((n_channels*n_cycles, 1, *img_size))\n",
    "k = 0\n",
    "for i in range(n_channels):\n",
    "    for j in range(n_cycles):\n",
    "        fn = f'./data/crisprmap20210506/amp-ch{i+1}-cycle{j}.tiff'\n",
    "        print(fn)\n",
    "        img = tif.imread(fn)\n",
    "        X[k, 0, :, :] = img[:, :, 1]  # using layer 1 out of layers 0-3\n",
    "        k = k+1"
   ]
  },
  {
   "cell_type": "code",
   "execution_count": 3,
   "id": "7a953682",
   "metadata": {},
   "outputs": [
    {
     "data": {
      "text/plain": [
       "(2048, 1792, 4)"
      ]
     },
     "execution_count": 3,
     "metadata": {},
     "output_type": "execute_result"
    }
   ],
   "source": [
    "img.shape"
   ]
  },
  {
   "cell_type": "code",
   "execution_count": 4,
   "id": "3a1db015",
   "metadata": {},
   "outputs": [
    {
     "data": {
      "text/plain": [
       "(10, 1, 2048, 1792)"
      ]
     },
     "execution_count": 4,
     "metadata": {},
     "output_type": "execute_result"
    }
   ],
   "source": [
    "X.shape"
   ]
  },
  {
   "cell_type": "code",
   "execution_count": 5,
   "id": "5066e9dc",
   "metadata": {},
   "outputs": [],
   "source": [
    "# for i in range(X.shape[0]):\n",
    "#     plt.figure(dpi=250)\n",
    "#     plt.imshow(X[i, 0,])"
   ]
  },
  {
   "cell_type": "markdown",
   "id": "d309369f",
   "metadata": {},
   "source": [
    "## Check how many pixels are roughly in one amplicon"
   ]
  },
  {
   "cell_type": "code",
   "execution_count": 6,
   "id": "a8f0f956",
   "metadata": {},
   "outputs": [],
   "source": [
    "# img = tif.imread('./data/crisprmap20210506/amp-ch1-cycle2.tiff')\n",
    "# plt.figure(dpi=100)\n",
    "# plt.imshow(img[80:100, 80:100, 1])\n",
    "# plt.axis('image')\n",
    "# # im.view()"
   ]
  },
  {
   "cell_type": "markdown",
   "id": "08f73174",
   "metadata": {},
   "source": [
    "This shows if the windows for local maxima is 3 by 3 pixels, they should be right for catching one amplicon"
   ]
  },
  {
   "cell_type": "markdown",
   "id": "3ccc8d71",
   "metadata": {},
   "source": [
    "## Remove border artifact and get X only within the range of the slide - segmentation images must be set to the same range when overlaying"
   ]
  },
  {
   "cell_type": "code",
   "execution_count": 7,
   "id": "408ffa2a",
   "metadata": {},
   "outputs": [],
   "source": [
    "up = 10\n",
    "down = 1900\n",
    "left = 50\n",
    "right = 1650\n",
    "\n",
    "Xcenter = X[:, :, up:down, left:right] # range is selected based on observation of images"
   ]
  },
  {
   "cell_type": "code",
   "execution_count": 8,
   "id": "5c3ddd66",
   "metadata": {},
   "outputs": [],
   "source": [
    "# for i in range(Xcenter.shape[0]):\n",
    "#     plt.figure(dpi=250)\n",
    "#     plt.imshow(Xcenter[i, 0,])"
   ]
  },
  {
   "cell_type": "markdown",
   "id": "103e78a8",
   "metadata": {},
   "source": [
    "# Codebook\n",
    "\n",
    "The most important is to make sure the codebook and the images are of the same order"
   ]
  },
  {
   "cell_type": "code",
   "execution_count": 9,
   "id": "2943a17a",
   "metadata": {},
   "outputs": [
    {
     "data": {
      "text/plain": [
       "array([[1, 0, 0, 0, 0, 1, 0, 0, 0, 0],\n",
       "       [0, 0, 0, 1, 0, 0, 0, 0, 1, 0],\n",
       "       [0, 1, 0, 0, 0, 0, 1, 0, 0, 0],\n",
       "       [0, 0, 0, 0, 1, 0, 0, 0, 0, 1],\n",
       "       [0, 0, 1, 0, 0, 0, 0, 1, 0, 0],\n",
       "       [0, 1, 0, 0, 0, 1, 0, 0, 0, 0],\n",
       "       [0, 0, 1, 0, 0, 1, 0, 0, 0, 0],\n",
       "       [1, 0, 0, 0, 0, 0, 1, 0, 0, 0],\n",
       "       [0, 0, 1, 0, 0, 0, 1, 0, 0, 0],\n",
       "       [0, 1, 0, 0, 0, 0, 0, 1, 0, 0]])"
      ]
     },
     "execution_count": 9,
     "metadata": {},
     "output_type": "execute_result"
    }
   ],
   "source": [
    "# !! currently the first value shows nan and hard code it to be 1; needs a better fix\n",
    "codebook = np.genfromtxt('./data/CRISPRmap_pilot_codebook_default.csv', filling_values=1, dtype=np.int, delimiter=\",\")\n",
    "codebook"
   ]
  },
  {
   "cell_type": "code",
   "execution_count": 10,
   "id": "1e445fd9",
   "metadata": {},
   "outputs": [],
   "source": [
    "# codebook = csv.reshape((10, 2, 5)).T.astype(bool)\n",
    "# codebook"
   ]
  },
  {
   "cell_type": "code",
   "execution_count": 11,
   "id": "5f0ed964",
   "metadata": {},
   "outputs": [
    {
     "data": {
      "text/plain": [
       "(10, 10)"
      ]
     },
     "execution_count": 11,
     "metadata": {},
     "output_type": "execute_result"
    }
   ],
   "source": [
    "codebook.shape"
   ]
  },
  {
   "cell_type": "markdown",
   "id": "07039031",
   "metadata": {},
   "source": [
    "The order of the codebook matches the order of the image stack."
   ]
  },
  {
   "cell_type": "markdown",
   "id": "cf4d0612",
   "metadata": {},
   "source": [
    "## Background subtraction and normalization"
   ]
  },
  {
   "cell_type": "code",
   "execution_count": 12,
   "id": "6034d028",
   "metadata": {},
   "outputs": [
    {
     "data": {
      "text/plain": [
       "(10, 1, 1890, 1600)"
      ]
     },
     "execution_count": 12,
     "metadata": {},
     "output_type": "execute_result"
    }
   ],
   "source": [
    "Xcenter.shape"
   ]
  },
  {
   "cell_type": "code",
   "execution_count": 13,
   "id": "3728aba1",
   "metadata": {},
   "outputs": [],
   "source": [
    "# Different from how bardensr did it (use these functions for now because they are tested)\n",
    "Xnorm = bardensr.preprocessing.background_subtraction(Xcenter, [0,10,10])\n",
    "Xnorm = bardensr.preprocessing.minmax(Xnorm)"
   ]
  },
  {
   "cell_type": "code",
   "execution_count": 14,
   "id": "1004511b",
   "metadata": {},
   "outputs": [
    {
     "data": {
      "text/plain": [
       "(10, 1, 1890, 1600)"
      ]
     },
     "execution_count": 14,
     "metadata": {},
     "output_type": "execute_result"
    }
   ],
   "source": [
    "Xnorm.shape"
   ]
  },
  {
   "cell_type": "code",
   "execution_count": 15,
   "id": "8b98dbbb",
   "metadata": {},
   "outputs": [],
   "source": [
    "# for i in range(Xnorm.shape[0]):\n",
    "#     plt.figure(dpi=250)\n",
    "#     plt.imshow(Xnorm[i, 0,])"
   ]
  },
  {
   "cell_type": "markdown",
   "id": "24d7ab4c",
   "metadata": {},
   "source": [
    "## Distribution"
   ]
  },
  {
   "cell_type": "code",
   "execution_count": 16,
   "id": "6723f031",
   "metadata": {},
   "outputs": [],
   "source": [
    "# # create the histogram\n",
    "# for i in range(Xnorm.shape[0]):\n",
    "#     histogram, bin_edges = np.histogram(Xnorm[i, 0], bins=256, range=(0, 1))\n",
    "\n",
    "#     # configure and draw the histogram figure\n",
    "#     plt.figure()\n",
    "# #     plt.title(\"Grayscale Histogram\")\n",
    "#     plt.xlabel(\"grayscale value\")\n",
    "#     plt.ylabel(\"pixels\")\n",
    "\n",
    "#     plt.semilogy(bin_edges[0:-1], histogram)  # <- or here\n",
    "\n",
    "#     plt.xlim([0.0, 1.0])  # <- named arguments do not work here\n",
    "#     plt.show()"
   ]
  },
  {
   "cell_type": "markdown",
   "id": "23c006e0",
   "metadata": {},
   "source": [
    "## Thresholding"
   ]
  },
  {
   "cell_type": "code",
   "execution_count": 17,
   "id": "ddc27016",
   "metadata": {},
   "outputs": [
    {
     "data": {
      "text/plain": [
       "(10, 1, 1890, 1600)"
      ]
     },
     "execution_count": 17,
     "metadata": {},
     "output_type": "execute_result"
    }
   ],
   "source": [
    "Xnorm.shape"
   ]
  },
  {
   "cell_type": "code",
   "execution_count": 18,
   "id": "6a4633c2",
   "metadata": {},
   "outputs": [
    {
     "data": {
      "text/plain": [
       "(1890, 1600)"
      ]
     },
     "execution_count": 18,
     "metadata": {},
     "output_type": "execute_result"
    }
   ],
   "source": [
    "Xnorm[0, 0,].shape"
   ]
  },
  {
   "cell_type": "code",
   "execution_count": 19,
   "id": "ca40aa5a",
   "metadata": {},
   "outputs": [],
   "source": [
    "# upper = 0.9\n",
    "# lower = [0.2, 0.16, 0.13, 0.15, 0.16, 0.16, 0.16, 0.13, 0.15, 0.15]\n",
    "# Xthresh = Xnorm.copy()\n",
    "# for i in range(Xthresh.shape[0]):\n",
    "#     single = Xthresh[i, 0,]\n",
    "#     single[single < lower[i]] = 0\n",
    "#     single[single > upper] = upper\n",
    "#     Xthresh[i, 0] = single"
   ]
  },
  {
   "cell_type": "code",
   "execution_count": 20,
   "id": "6b992c4e",
   "metadata": {},
   "outputs": [],
   "source": [
    "residual = 0.125  # tested through the spot method and the cell method should be less sensitive \n",
    "Xthresh = Xnorm.copy()\n",
    "Xthresh[Xthresh < residual] = 0"
   ]
  },
  {
   "cell_type": "code",
   "execution_count": 21,
   "id": "3cf073cf",
   "metadata": {},
   "outputs": [],
   "source": [
    "# for i in range(Xthresh.shape[0]):\n",
    "#     histogram, bin_edges = np.histogram(Xthresh[i, 0], bins=256, range=(0, 1))\n",
    "\n",
    "#     # configure and draw the histogram figure\n",
    "#     plt.figure()\n",
    "# #     plt.title(\"Grayscale Histogram\")\n",
    "#     plt.xlabel(\"grayscale value\")\n",
    "#     plt.ylabel(\"pixels\")\n",
    "\n",
    "#     plt.semilogy(bin_edges[0:-1], histogram)  # <- or here\n",
    "\n",
    "#     plt.xlim([0.0, 1.0])  # <- named arguments do not work here\n",
    "#     plt.show()"
   ]
  },
  {
   "cell_type": "code",
   "execution_count": 22,
   "id": "6ccdb0ad",
   "metadata": {},
   "outputs": [],
   "source": [
    "# # Before and after (partial region)\n",
    "# # with bardensr.plotting.AnimAcross() as a:\n",
    "# for i in range(Xthresh.shape[0]):\n",
    "#     plt.figure(dpi=250)\n",
    "#     plt.subplot(1, 2, 1)\n",
    "# #     a('before')\n",
    "#     plt.imshow(Xnorm[i, 0, 200:500, 200:500])\n",
    "#     plt.subplot(1, 2, 2)\n",
    "# #     a('after')\n",
    "#     plt.imshow(Xthresh[i, 0, 200:500, 200:500])"
   ]
  },
  {
   "cell_type": "markdown",
   "id": "0c310998",
   "metadata": {},
   "source": [
    "# Peak calling and counting (inside membrane masks)\n",
    "\n",
    "**Check by overlay to see if there are enough spots called.**"
   ]
  },
  {
   "cell_type": "code",
   "execution_count": 23,
   "id": "e77f3113",
   "metadata": {},
   "outputs": [
    {
     "name": "stdout",
     "output_type": "stream",
     "text": [
      "<KeysViewHDF5 ['Average GFP Masks', 'Cell Seg Mask', 'Max Projection', 'Nuc Seg Mask', 'Summed GFP Masks']>\n"
     ]
    }
   ],
   "source": [
    "# Read in the membrane segmentation\n",
    "hf = h5py.File(\"./data/Ben_MembraneSegmentation_NuclearGFP_2021-06-22.hdf5\", \"r\")\n",
    "print(hf.keys())\n",
    "masks_mem = hf[\"Cell Seg Mask\"]"
   ]
  },
  {
   "cell_type": "code",
   "execution_count": 24,
   "id": "778cc54a",
   "metadata": {},
   "outputs": [],
   "source": [
    "# plt.figure(dpi=250)\n",
    "# plt.imshow(masks_mem)\n",
    "# plt.axis('image')"
   ]
  },
  {
   "cell_type": "code",
   "execution_count": 25,
   "id": "81da3e20",
   "metadata": {},
   "outputs": [],
   "source": [
    "# Find the number of membrane segmentation masks\n",
    "# np.unique(masks_mem)"
   ]
  },
  {
   "cell_type": "code",
   "execution_count": 26,
   "id": "ed448340",
   "metadata": {},
   "outputs": [],
   "source": [
    "# # Check starting from which number the masks are truly membrane segmentation (instead of the background)\n",
    "# plt.figure(dpi=300)\n",
    "# for i in range(0, 5):\n",
    "#     plt.figure()\n",
    "#     plt.imshow(np.array(masks_mem)==i)"
   ]
  },
  {
   "cell_type": "code",
   "execution_count": 27,
   "id": "7b9d88c9",
   "metadata": {},
   "outputs": [],
   "source": [
    "#     xindex = test.loc[i, 'm2'] + left\n",
    "#     yindex = test.loc[i, 'm1'] + up"
   ]
  },
  {
   "cell_type": "code",
   "execution_count": 28,
   "id": "2b6a9508",
   "metadata": {},
   "outputs": [],
   "source": [
    "# pd.DataFrame(np.zeros((len(np.unique(masks_mem)), Xthresh.shape[0])))"
   ]
  },
  {
   "cell_type": "code",
   "execution_count": 29,
   "id": "e53121ab",
   "metadata": {},
   "outputs": [],
   "source": [
    "# cell_table = pd.DataFrame(np.zeros((len(np.unique(masks_mem)), Xthresh.shape[0])))\n",
    "cell_table = np.zeros((len(np.unique(masks_mem)), Xthresh.shape[0]))\n",
    "\n",
    "for k in range(Xthresh.shape[0]):  # for the kth image\n",
    "    # Get local maximum values of desired neighborhood (size of the amplicons)\n",
    "    max_fil = ndimage.maximum_filter(Xthresh[k,], size=(1, 2, 2))\n",
    "\n",
    "    # Threshold the image to find locations of interest\n",
    "    # assuming 6 standard deviations above the mean of the image\n",
    "    peak_thresh = max_fil.mean() + max_fil.std() * 6\n",
    "\n",
    "    # find areas greater than peak_thresh\n",
    "    labels, num_labels = ndimage.label(max_fil > peak_thresh)\n",
    "\n",
    "    # Get the positions of the maxima\n",
    "    coords = ndimage.measurements.center_of_mass(Xthresh[k,], \n",
    "                                                 labels=labels, \n",
    "                                                 index=np.arange(1, num_labels + 1))\n",
    "\n",
    "    # # Get the maximum value in the labels\n",
    "    # values = ndimage.measurements.maximum(img, labels=labels, index=np.arange(1, num_labels + 1))\n",
    "    # # https://stackoverflow.com/questions/55453110/how-to-find-local-maxima-of-3d-array-in-python\n",
    "\n",
    "    for _, m1, m2 in coords:\n",
    "        m1 = int(np.round(m1))\n",
    "        m2 = int(np.round(m2))\n",
    "        mem_id = masks_mem[m1+up, m2+left]  # important to match the coordinates if images are trimmed\n",
    "        if mem_id>0: # 0 is background\n",
    "#             cell_table.loc[mem_id, k] += 1\n",
    "            cell_table[mem_id, k] += 1"
   ]
  },
  {
   "cell_type": "code",
   "execution_count": 30,
   "id": "35cda23b",
   "metadata": {},
   "outputs": [],
   "source": [
    "# labels"
   ]
  },
  {
   "cell_type": "code",
   "execution_count": 31,
   "id": "8da93989",
   "metadata": {},
   "outputs": [],
   "source": [
    "# num_labels"
   ]
  },
  {
   "cell_type": "code",
   "execution_count": 32,
   "id": "caee6451",
   "metadata": {},
   "outputs": [
    {
     "data": {
      "text/plain": [
       "[(0.0, 6.543602130081081, 861.0),\n",
       " (0.0, 8.0, 108.59272456891979),\n",
       " (0.0, 9.481436771695659, 903.0),\n",
       " (0.0, 11.254144676468409, 729.667745198682),\n",
       " (0.0, 14.440051349491345, 1046.6361900533907),\n",
       " (0.0, 14.434706722909056, 1560.5603333633226),\n",
       " (0.0, 30.0, 542.0),\n",
       " (0.0, 30.435710348342994, 854.9999999999999),\n",
       " (0.0, 34.46947260290432, 990.7079067808304),\n",
       " (0.0, 34.362508995111035, 1529.6088846841628)]"
      ]
     },
     "execution_count": 32,
     "metadata": {},
     "output_type": "execute_result"
    }
   ],
   "source": [
    "coords[:10]"
   ]
  },
  {
   "cell_type": "code",
   "execution_count": 33,
   "id": "81890416",
   "metadata": {},
   "outputs": [
    {
     "data": {
      "text/plain": [
       "802"
      ]
     },
     "execution_count": 33,
     "metadata": {},
     "output_type": "execute_result"
    }
   ],
   "source": [
    "int(np.round(801.5228444869555))"
   ]
  },
  {
   "cell_type": "code",
   "execution_count": 34,
   "id": "e2ca7fe1",
   "metadata": {},
   "outputs": [
    {
     "data": {
      "text/plain": [
       "299"
      ]
     },
     "execution_count": 34,
     "metadata": {},
     "output_type": "execute_result"
    }
   ],
   "source": [
    "len(coords)"
   ]
  },
  {
   "cell_type": "code",
   "execution_count": 35,
   "id": "ff056108",
   "metadata": {},
   "outputs": [
    {
     "data": {
      "text/plain": [
       "array([[ 0.,  0.,  0., ...,  0.,  0.,  0.],\n",
       "       [ 0.,  0.,  0., ...,  0.,  0.,  0.],\n",
       "       [ 0.,  1.,  1., ...,  3.,  0.,  0.],\n",
       "       ...,\n",
       "       [ 2.,  8.,  1., ...,  2.,  1.,  0.],\n",
       "       [ 0.,  1.,  9., ..., 10.,  0.,  0.],\n",
       "       [ 2.,  0.,  0., ...,  0.,  0.,  0.]])"
      ]
     },
     "execution_count": 35,
     "metadata": {},
     "output_type": "execute_result"
    }
   ],
   "source": [
    "cell_table"
   ]
  },
  {
   "cell_type": "code",
   "execution_count": 36,
   "id": "e7ecadb9",
   "metadata": {},
   "outputs": [
    {
     "data": {
      "text/plain": [
       "(660, 10)"
      ]
     },
     "execution_count": 36,
     "metadata": {},
     "output_type": "execute_result"
    }
   ],
   "source": [
    "cell_table.shape"
   ]
  },
  {
   "cell_type": "markdown",
   "id": "ce9123ee",
   "metadata": {},
   "source": [
    "# Nearest Neighbor/Correlation"
   ]
  },
  {
   "cell_type": "code",
   "execution_count": 37,
   "id": "c608295e",
   "metadata": {},
   "outputs": [],
   "source": [
    "# Calculate the correlation\n",
    "cell_norm = np.sqrt(np.sum(np.power(cell_table, 2), axis=1))\n",
    "cell_corr = cell_table.dot(codebook.T) / np.reshape(cell_norm + 1e-6, (-1,1))  # add 1e-6 to avoid the denominator being 0"
   ]
  },
  {
   "cell_type": "code",
   "execution_count": 38,
   "id": "a2857e0a",
   "metadata": {},
   "outputs": [
    {
     "data": {
      "text/plain": [
       "array([[1.38873008, 0.        , 0.10286889, 0.05143445, 0.20573779,\n",
       "        0.77151671, 0.8743856 , 0.72008226, 0.20573779, 0.10286889],\n",
       "       [0.64326749, 0.        , 0.05360562, 0.        , 0.91129561,\n",
       "        0.16081687, 0.2144225 , 0.53605624, 0.10721125, 0.85768998],\n",
       "       [0.04944682, 0.09889363, 0.09889363, 0.        , 0.9889363 ,\n",
       "        0.14834045, 1.03838312, 0.        , 0.9889363 , 0.09889363],\n",
       "       [1.38873004, 0.        , 0.15430334, 0.        , 0.        ,\n",
       "        0.77151669, 0.61721335, 0.77151669, 0.        , 0.15430334],\n",
       "       [0.        , 0.        , 0.        , 0.        , 0.        ,\n",
       "        0.        , 0.        , 0.        , 0.        , 0.        ]])"
      ]
     },
     "execution_count": 38,
     "metadata": {},
     "output_type": "execute_result"
    }
   ],
   "source": [
    "cell_corr[200:205,]"
   ]
  },
  {
   "cell_type": "code",
   "execution_count": 39,
   "id": "ca4758db",
   "metadata": {},
   "outputs": [
    {
     "data": {
      "text/plain": [
       "(660, 10)"
      ]
     },
     "execution_count": 39,
     "metadata": {},
     "output_type": "execute_result"
    }
   ],
   "source": [
    "cell_corr.shape"
   ]
  },
  {
   "cell_type": "code",
   "execution_count": 40,
   "id": "4ce412fc",
   "metadata": {},
   "outputs": [],
   "source": [
    "# cell_norm + 1e-6"
   ]
  },
  {
   "cell_type": "code",
   "execution_count": 41,
   "id": "c64fb2d2",
   "metadata": {},
   "outputs": [],
   "source": [
    "# (cell_table.dot(codebook.T) / np.reshape(cell_norm, (-1,1))).shape"
   ]
  },
  {
   "cell_type": "code",
   "execution_count": 42,
   "id": "567c31b2",
   "metadata": {},
   "outputs": [],
   "source": [
    "# cell_norm"
   ]
  },
  {
   "cell_type": "code",
   "execution_count": 43,
   "id": "b43e16ae",
   "metadata": {},
   "outputs": [],
   "source": [
    "# np.reshape(cell_norm, (-1,1))"
   ]
  },
  {
   "cell_type": "code",
   "execution_count": 67,
   "id": "f609ef82",
   "metadata": {},
   "outputs": [
    {
     "data": {
      "text/html": [
       "<div>\n",
       "<style scoped>\n",
       "    .dataframe tbody tr th:only-of-type {\n",
       "        vertical-align: middle;\n",
       "    }\n",
       "\n",
       "    .dataframe tbody tr th {\n",
       "        vertical-align: top;\n",
       "    }\n",
       "\n",
       "    .dataframe thead th {\n",
       "        text-align: right;\n",
       "    }\n",
       "</style>\n",
       "<table border=\"1\" class=\"dataframe\">\n",
       "  <thead>\n",
       "    <tr style=\"text-align: right;\">\n",
       "      <th></th>\n",
       "      <th>barcode</th>\n",
       "    </tr>\n",
       "  </thead>\n",
       "  <tbody>\n",
       "    <tr>\n",
       "      <th>0</th>\n",
       "      <td>0</td>\n",
       "    </tr>\n",
       "    <tr>\n",
       "      <th>1</th>\n",
       "      <td>0</td>\n",
       "    </tr>\n",
       "    <tr>\n",
       "      <th>2</th>\n",
       "      <td>4</td>\n",
       "    </tr>\n",
       "    <tr>\n",
       "      <th>3</th>\n",
       "      <td>0</td>\n",
       "    </tr>\n",
       "    <tr>\n",
       "      <th>4</th>\n",
       "      <td>0</td>\n",
       "    </tr>\n",
       "    <tr>\n",
       "      <th>...</th>\n",
       "      <td>...</td>\n",
       "    </tr>\n",
       "    <tr>\n",
       "      <th>655</th>\n",
       "      <td>0</td>\n",
       "    </tr>\n",
       "    <tr>\n",
       "      <th>656</th>\n",
       "      <td>9</td>\n",
       "    </tr>\n",
       "    <tr>\n",
       "      <th>657</th>\n",
       "      <td>5</td>\n",
       "    </tr>\n",
       "    <tr>\n",
       "      <th>658</th>\n",
       "      <td>4</td>\n",
       "    </tr>\n",
       "    <tr>\n",
       "      <th>659</th>\n",
       "      <td>0</td>\n",
       "    </tr>\n",
       "  </tbody>\n",
       "</table>\n",
       "<p>660 rows × 1 columns</p>\n",
       "</div>"
      ],
      "text/plain": [
       "     barcode\n",
       "0          0\n",
       "1          0\n",
       "2          4\n",
       "3          0\n",
       "4          0\n",
       "..       ...\n",
       "655        0\n",
       "656        9\n",
       "657        5\n",
       "658        4\n",
       "659        0\n",
       "\n",
       "[660 rows x 1 columns]"
      ]
     },
     "execution_count": 67,
     "metadata": {},
     "output_type": "execute_result"
    }
   ],
   "source": [
    "# Assign cells to barcodes according to the max correlation\n",
    "cell_id = pd.DataFrame(np.argmax(cell_corr, axis=1), columns=['barcode'])\n",
    "cell_id"
   ]
  },
  {
   "cell_type": "code",
   "execution_count": 45,
   "id": "780e1840",
   "metadata": {},
   "outputs": [],
   "source": [
    "# cell_id.loc[200:210]"
   ]
  },
  {
   "cell_type": "code",
   "execution_count": 46,
   "id": "82d03dfd",
   "metadata": {},
   "outputs": [],
   "source": [
    "# cell_id.to_csv('./result/crisprmap20210506_layer1out0123_cell_id_thresh6std.csv', index=False)"
   ]
  },
  {
   "cell_type": "code",
   "execution_count": 47,
   "id": "d961406e",
   "metadata": {},
   "outputs": [
    {
     "data": {
      "text/plain": [
       "[1.183215756619957, 1.183215756619957]"
      ]
     },
     "execution_count": 47,
     "metadata": {},
     "output_type": "execute_result"
    }
   ],
   "source": [
    "heapq.nlargest(2, cell_corr[116,])"
   ]
  },
  {
   "cell_type": "code",
   "execution_count": 68,
   "id": "888da638",
   "metadata": {},
   "outputs": [],
   "source": [
    "def minmax(x, min_all, max_all):\n",
    "    y = (x-min_all)/max_all\n",
    "    return y"
   ]
  },
  {
   "cell_type": "code",
   "execution_count": 69,
   "id": "fb6f8255",
   "metadata": {},
   "outputs": [
    {
     "data": {
      "text/html": [
       "<div>\n",
       "<style scoped>\n",
       "    .dataframe tbody tr th:only-of-type {\n",
       "        vertical-align: middle;\n",
       "    }\n",
       "\n",
       "    .dataframe tbody tr th {\n",
       "        vertical-align: top;\n",
       "    }\n",
       "\n",
       "    .dataframe thead th {\n",
       "        text-align: right;\n",
       "    }\n",
       "</style>\n",
       "<table border=\"1\" class=\"dataframe\">\n",
       "  <thead>\n",
       "    <tr style=\"text-align: right;\">\n",
       "      <th></th>\n",
       "      <th>barcode</th>\n",
       "      <th>max</th>\n",
       "      <th>second_max</th>\n",
       "      <th>quality</th>\n",
       "    </tr>\n",
       "  </thead>\n",
       "  <tbody>\n",
       "    <tr>\n",
       "      <th>291</th>\n",
       "      <td>1</td>\n",
       "      <td>0.938876</td>\n",
       "      <td>0.000000</td>\n",
       "      <td>0.938876</td>\n",
       "    </tr>\n",
       "    <tr>\n",
       "      <th>406</th>\n",
       "      <td>1</td>\n",
       "      <td>0.857493</td>\n",
       "      <td>0.000000</td>\n",
       "      <td>0.857493</td>\n",
       "    </tr>\n",
       "    <tr>\n",
       "      <th>359</th>\n",
       "      <td>1</td>\n",
       "      <td>0.923846</td>\n",
       "      <td>0.074906</td>\n",
       "      <td>0.848940</td>\n",
       "    </tr>\n",
       "    <tr>\n",
       "      <th>98</th>\n",
       "      <td>1</td>\n",
       "      <td>0.920358</td>\n",
       "      <td>0.076696</td>\n",
       "      <td>0.843661</td>\n",
       "    </tr>\n",
       "    <tr>\n",
       "      <th>156</th>\n",
       "      <td>1</td>\n",
       "      <td>0.925711</td>\n",
       "      <td>0.100987</td>\n",
       "      <td>0.824724</td>\n",
       "    </tr>\n",
       "    <tr>\n",
       "      <th>...</th>\n",
       "      <td>...</td>\n",
       "      <td>...</td>\n",
       "      <td>...</td>\n",
       "      <td>...</td>\n",
       "    </tr>\n",
       "    <tr>\n",
       "      <th>580</th>\n",
       "      <td>2</td>\n",
       "      <td>0.714434</td>\n",
       "      <td>0.714434</td>\n",
       "      <td>0.000000</td>\n",
       "    </tr>\n",
       "    <tr>\n",
       "      <th>116</th>\n",
       "      <td>4</td>\n",
       "      <td>0.836660</td>\n",
       "      <td>0.836660</td>\n",
       "      <td>0.000000</td>\n",
       "    </tr>\n",
       "    <tr>\n",
       "      <th>578</th>\n",
       "      <td>4</td>\n",
       "      <td>0.707106</td>\n",
       "      <td>0.707106</td>\n",
       "      <td>0.000000</td>\n",
       "    </tr>\n",
       "    <tr>\n",
       "      <th>21</th>\n",
       "      <td>4</td>\n",
       "      <td>0.707106</td>\n",
       "      <td>0.707106</td>\n",
       "      <td>0.000000</td>\n",
       "    </tr>\n",
       "    <tr>\n",
       "      <th>0</th>\n",
       "      <td>0</td>\n",
       "      <td>0.000000</td>\n",
       "      <td>0.000000</td>\n",
       "      <td>0.000000</td>\n",
       "    </tr>\n",
       "  </tbody>\n",
       "</table>\n",
       "<p>660 rows × 4 columns</p>\n",
       "</div>"
      ],
      "text/plain": [
       "     barcode       max  second_max   quality\n",
       "291        1  0.938876    0.000000  0.938876\n",
       "406        1  0.857493    0.000000  0.857493\n",
       "359        1  0.923846    0.074906  0.848940\n",
       "98         1  0.920358    0.076696  0.843661\n",
       "156        1  0.925711    0.100987  0.824724\n",
       "..       ...       ...         ...       ...\n",
       "580        2  0.714434    0.714434  0.000000\n",
       "116        4  0.836660    0.836660  0.000000\n",
       "578        4  0.707106    0.707106  0.000000\n",
       "21         4  0.707106    0.707106  0.000000\n",
       "0          0  0.000000    0.000000  0.000000\n",
       "\n",
       "[660 rows x 4 columns]"
      ]
     },
     "execution_count": 69,
     "metadata": {},
     "output_type": "execute_result"
    }
   ],
   "source": [
    "cell_id['max'] = minmax(np.max(cell_corr, axis=1), min_all=np.min(cell_corr), max_all=np.max(cell_corr))\n",
    "cell_id['second_max'] = minmax([heapq.nlargest(2, cell_corr[i,])[1] for i in cell_id.index], min_all=np.min(cell_corr), max_all=np.max(cell_corr))\n",
    "# cell_id['second_max'] = [heapq.nlargest(2, cell_corr[i,])[1] for i in cell_id.index]\n",
    "cell_id['quality'] = cell_id['max'] - cell_id['second_max']\n",
    "cell_id = cell_id.sort_values(by=['quality'], ascending=False)\n",
    "cell_id"
   ]
  },
  {
   "cell_type": "code",
   "execution_count": 70,
   "id": "10bb310c",
   "metadata": {},
   "outputs": [
    {
     "data": {
      "text/plain": [
       "<AxesSubplot:xlabel='quality', ylabel='Count'>"
      ]
     },
     "execution_count": 70,
     "metadata": {},
     "output_type": "execute_result"
    },
    {
     "data": {
      "image/png": "[encoded data removed]",
      "text/plain": [
       "<Figure size 432x288 with 1 Axes>"
      ]
     },
     "metadata": {
      "needs_background": "light"
     },
     "output_type": "display_data"
    }
   ],
   "source": [
    "import seaborn as sns\n",
    "sns.histplot(data=cell_id, x=\"quality\")"
   ]
  },
  {
   "cell_type": "code",
   "execution_count": 71,
   "id": "774c2ffd",
   "metadata": {},
   "outputs": [
    {
     "data": {
      "text/plain": [
       "<AxesSubplot:xlabel='max', ylabel='Count'>"
      ]
     },
     "execution_count": 71,
     "metadata": {},
     "output_type": "execute_result"
    },
    {
     "data": {
      "image/png": "[encoded data removed]",
      "text/plain": [
       "<Figure size 432x288 with 1 Axes>"
      ]
     },
     "metadata": {
      "needs_background": "light"
     },
     "output_type": "display_data"
    }
   ],
   "source": [
    "import seaborn as sns\n",
    "sns.histplot(data=cell_id, x=\"max\")"
   ]
  },
  {
   "cell_type": "code",
   "execution_count": 72,
   "id": "a9c9ea7a",
   "metadata": {},
   "outputs": [
    {
     "data": {
      "text/plain": [
       "<AxesSubplot:xlabel='second_max', ylabel='Count'>"
      ]
     },
     "execution_count": 72,
     "metadata": {},
     "output_type": "execute_result"
    },
    {
     "data": {
      "image/png": "[encoded data removed]",
      "text/plain": [
       "<Figure size 432x288 with 1 Axes>"
      ]
     },
     "metadata": {
      "needs_background": "light"
     },
     "output_type": "display_data"
    }
   ],
   "source": [
    "import seaborn as sns\n",
    "sns.histplot(data=cell_id, x=\"second_max\")"
   ]
  },
  {
   "cell_type": "code",
   "execution_count": 72,
   "id": "365e58bf",
   "metadata": {},
   "outputs": [
    {
     "data": {
      "text/html": [
       "<div>\n",
       "<style scoped>\n",
       "    .dataframe tbody tr th:only-of-type {\n",
       "        vertical-align: middle;\n",
       "    }\n",
       "\n",
       "    .dataframe tbody tr th {\n",
       "        vertical-align: top;\n",
       "    }\n",
       "\n",
       "    .dataframe thead th {\n",
       "        text-align: right;\n",
       "    }\n",
       "</style>\n",
       "<table border=\"1\" class=\"dataframe\">\n",
       "  <thead>\n",
       "    <tr style=\"text-align: right;\">\n",
       "      <th></th>\n",
       "      <th>barcode</th>\n",
       "      <th>max</th>\n",
       "      <th>quality</th>\n",
       "    </tr>\n",
       "  </thead>\n",
       "  <tbody>\n",
       "    <tr>\n",
       "      <th>291</th>\n",
       "      <td>1</td>\n",
       "      <td>1.327772</td>\n",
       "      <td>1.327772</td>\n",
       "    </tr>\n",
       "    <tr>\n",
       "      <th>406</th>\n",
       "      <td>1</td>\n",
       "      <td>1.212678</td>\n",
       "      <td>1.212678</td>\n",
       "    </tr>\n",
       "    <tr>\n",
       "      <th>359</th>\n",
       "      <td>1</td>\n",
       "      <td>1.306515</td>\n",
       "      <td>1.200582</td>\n",
       "    </tr>\n",
       "    <tr>\n",
       "      <th>98</th>\n",
       "      <td>1</td>\n",
       "      <td>1.301583</td>\n",
       "      <td>1.193117</td>\n",
       "    </tr>\n",
       "    <tr>\n",
       "      <th>156</th>\n",
       "      <td>1</td>\n",
       "      <td>1.309153</td>\n",
       "      <td>1.166336</td>\n",
       "    </tr>\n",
       "    <tr>\n",
       "      <th>118</th>\n",
       "      <td>1</td>\n",
       "      <td>1.308442</td>\n",
       "      <td>1.163060</td>\n",
       "    </tr>\n",
       "    <tr>\n",
       "      <th>83</th>\n",
       "      <td>1</td>\n",
       "      <td>1.278724</td>\n",
       "      <td>1.162476</td>\n",
       "    </tr>\n",
       "    <tr>\n",
       "      <th>283</th>\n",
       "      <td>1</td>\n",
       "      <td>1.302462</td>\n",
       "      <td>1.161655</td>\n",
       "    </tr>\n",
       "    <tr>\n",
       "      <th>299</th>\n",
       "      <td>1</td>\n",
       "      <td>1.311680</td>\n",
       "      <td>1.124297</td>\n",
       "    </tr>\n",
       "    <tr>\n",
       "      <th>380</th>\n",
       "      <td>1</td>\n",
       "      <td>1.245657</td>\n",
       "      <td>1.116796</td>\n",
       "    </tr>\n",
       "    <tr>\n",
       "      <th>174</th>\n",
       "      <td>1</td>\n",
       "      <td>1.164965</td>\n",
       "      <td>1.103651</td>\n",
       "    </tr>\n",
       "    <tr>\n",
       "      <th>362</th>\n",
       "      <td>1</td>\n",
       "      <td>1.297364</td>\n",
       "      <td>1.100794</td>\n",
       "    </tr>\n",
       "    <tr>\n",
       "      <th>321</th>\n",
       "      <td>1</td>\n",
       "      <td>1.253217</td>\n",
       "      <td>1.096565</td>\n",
       "    </tr>\n",
       "    <tr>\n",
       "      <th>78</th>\n",
       "      <td>1</td>\n",
       "      <td>1.227920</td>\n",
       "      <td>1.060477</td>\n",
       "    </tr>\n",
       "    <tr>\n",
       "      <th>91</th>\n",
       "      <td>1</td>\n",
       "      <td>1.333435</td>\n",
       "      <td>1.037116</td>\n",
       "    </tr>\n",
       "    <tr>\n",
       "      <th>335</th>\n",
       "      <td>1</td>\n",
       "      <td>1.244342</td>\n",
       "      <td>1.036952</td>\n",
       "    </tr>\n",
       "    <tr>\n",
       "      <th>364</th>\n",
       "      <td>1</td>\n",
       "      <td>1.246744</td>\n",
       "      <td>1.015866</td>\n",
       "    </tr>\n",
       "    <tr>\n",
       "      <th>456</th>\n",
       "      <td>1</td>\n",
       "      <td>1.093737</td>\n",
       "      <td>0.991200</td>\n",
       "    </tr>\n",
       "    <tr>\n",
       "      <th>332</th>\n",
       "      <td>1</td>\n",
       "      <td>1.153563</td>\n",
       "      <td>0.976092</td>\n",
       "    </tr>\n",
       "    <tr>\n",
       "      <th>70</th>\n",
       "      <td>1</td>\n",
       "      <td>1.173111</td>\n",
       "      <td>0.966092</td>\n",
       "    </tr>\n",
       "    <tr>\n",
       "      <th>465</th>\n",
       "      <td>1</td>\n",
       "      <td>1.035865</td>\n",
       "      <td>0.956183</td>\n",
       "    </tr>\n",
       "    <tr>\n",
       "      <th>417</th>\n",
       "      <td>1</td>\n",
       "      <td>1.186782</td>\n",
       "      <td>0.949425</td>\n",
       "    </tr>\n",
       "    <tr>\n",
       "      <th>395</th>\n",
       "      <td>1</td>\n",
       "      <td>1.157383</td>\n",
       "      <td>0.916261</td>\n",
       "    </tr>\n",
       "    <tr>\n",
       "      <th>51</th>\n",
       "      <td>1</td>\n",
       "      <td>1.206045</td>\n",
       "      <td>0.904534</td>\n",
       "    </tr>\n",
       "    <tr>\n",
       "      <th>607</th>\n",
       "      <td>1</td>\n",
       "      <td>1.165543</td>\n",
       "      <td>0.825593</td>\n",
       "    </tr>\n",
       "    <tr>\n",
       "      <th>485</th>\n",
       "      <td>9</td>\n",
       "      <td>1.414213</td>\n",
       "      <td>0.707107</td>\n",
       "    </tr>\n",
       "    <tr>\n",
       "      <th>369</th>\n",
       "      <td>9</td>\n",
       "      <td>1.414213</td>\n",
       "      <td>0.707107</td>\n",
       "    </tr>\n",
       "    <tr>\n",
       "      <th>247</th>\n",
       "      <td>0</td>\n",
       "      <td>1.414213</td>\n",
       "      <td>0.707107</td>\n",
       "    </tr>\n",
       "    <tr>\n",
       "      <th>659</th>\n",
       "      <td>0</td>\n",
       "      <td>1.414213</td>\n",
       "      <td>0.707107</td>\n",
       "    </tr>\n",
       "    <tr>\n",
       "      <th>377</th>\n",
       "      <td>4</td>\n",
       "      <td>1.414213</td>\n",
       "      <td>0.707106</td>\n",
       "    </tr>\n",
       "    <tr>\n",
       "      <th>64</th>\n",
       "      <td>6</td>\n",
       "      <td>1.414213</td>\n",
       "      <td>0.707106</td>\n",
       "    </tr>\n",
       "    <tr>\n",
       "      <th>58</th>\n",
       "      <td>6</td>\n",
       "      <td>1.414213</td>\n",
       "      <td>0.707106</td>\n",
       "    </tr>\n",
       "    <tr>\n",
       "      <th>186</th>\n",
       "      <td>5</td>\n",
       "      <td>1.414213</td>\n",
       "      <td>0.707106</td>\n",
       "    </tr>\n",
       "    <tr>\n",
       "      <th>212</th>\n",
       "      <td>9</td>\n",
       "      <td>1.414213</td>\n",
       "      <td>0.707106</td>\n",
       "    </tr>\n",
       "    <tr>\n",
       "      <th>27</th>\n",
       "      <td>9</td>\n",
       "      <td>1.414213</td>\n",
       "      <td>0.707106</td>\n",
       "    </tr>\n",
       "    <tr>\n",
       "      <th>45</th>\n",
       "      <td>4</td>\n",
       "      <td>1.404494</td>\n",
       "      <td>0.702247</td>\n",
       "    </tr>\n",
       "  </tbody>\n",
       "</table>\n",
       "</div>"
      ],
      "text/plain": [
       "     barcode       max   quality\n",
       "291        1  1.327772  1.327772\n",
       "406        1  1.212678  1.212678\n",
       "359        1  1.306515  1.200582\n",
       "98         1  1.301583  1.193117\n",
       "156        1  1.309153  1.166336\n",
       "118        1  1.308442  1.163060\n",
       "83         1  1.278724  1.162476\n",
       "283        1  1.302462  1.161655\n",
       "299        1  1.311680  1.124297\n",
       "380        1  1.245657  1.116796\n",
       "174        1  1.164965  1.103651\n",
       "362        1  1.297364  1.100794\n",
       "321        1  1.253217  1.096565\n",
       "78         1  1.227920  1.060477\n",
       "91         1  1.333435  1.037116\n",
       "335        1  1.244342  1.036952\n",
       "364        1  1.246744  1.015866\n",
       "456        1  1.093737  0.991200\n",
       "332        1  1.153563  0.976092\n",
       "70         1  1.173111  0.966092\n",
       "465        1  1.035865  0.956183\n",
       "417        1  1.186782  0.949425\n",
       "395        1  1.157383  0.916261\n",
       "51         1  1.206045  0.904534\n",
       "607        1  1.165543  0.825593\n",
       "485        9  1.414213  0.707107\n",
       "369        9  1.414213  0.707107\n",
       "247        0  1.414213  0.707107\n",
       "659        0  1.414213  0.707107\n",
       "377        4  1.414213  0.707106\n",
       "64         6  1.414213  0.707106\n",
       "58         6  1.414213  0.707106\n",
       "186        5  1.414213  0.707106\n",
       "212        9  1.414213  0.707106\n",
       "27         9  1.414213  0.707106\n",
       "45         4  1.404494  0.702247"
      ]
     },
     "execution_count": 72,
     "metadata": {},
     "output_type": "execute_result"
    }
   ],
   "source": [
    "cell_id[cell_id['quality']>0.7]"
   ]
  },
  {
   "cell_type": "code",
   "execution_count": 86,
   "id": "f8466454",
   "metadata": {},
   "outputs": [
    {
     "data": {
      "text/plain": [
       "<matplotlib.image.AxesImage at 0x7fb5c4135910>"
      ]
     },
     "execution_count": 86,
     "metadata": {},
     "output_type": "execute_result"
    },
    {
     "data": {
      "image/png": "[encoded data removed]",
      "text/plain": [
       "<Figure size 1500x1000 with 1 Axes>"
      ]
     },
     "metadata": {
      "needs_background": "light"
     },
     "output_type": "display_data"
    }
   ],
   "source": [
    "# Possibly plot which cells have high quality scores\n",
    "high_quality = cell_id[cell_id['quality']>0.7]\n",
    "high_quality_mem = np.zeros(masks_mem.shape)\n",
    "for i in high_quality.index:\n",
    "    high_quality_mem[np.array(masks_mem)==i] = i\n",
    "plt.figure(dpi=250)\n",
    "plt.imshow(high_quality_mem)"
   ]
  },
  {
   "cell_type": "code",
   "execution_count": 60,
   "id": "0cd4cd4f",
   "metadata": {},
   "outputs": [],
   "source": [
    "# sns.histplot(data=cell_id, x=\"max\")"
   ]
  },
  {
   "cell_type": "code",
   "execution_count": 59,
   "id": "c5488326",
   "metadata": {},
   "outputs": [
    {
     "data": {
      "text/plain": [
       "{1.4142134909445272}"
      ]
     },
     "execution_count": 59,
     "metadata": {},
     "output_type": "execute_result"
    }
   ],
   "source": [
    "set(cell_id['max'])"
   ]
  },
  {
   "cell_type": "code",
   "execution_count": 61,
   "id": "77b05e18",
   "metadata": {},
   "outputs": [
    {
     "data": {
      "text/plain": [
       "1.4142134909445272"
      ]
     },
     "execution_count": 61,
     "metadata": {},
     "output_type": "execute_result"
    }
   ],
   "source": [
    "np.max(cell_corr)"
   ]
  },
  {
   "cell_type": "code",
   "execution_count": 62,
   "id": "399e8472",
   "metadata": {},
   "outputs": [
    {
     "data": {
      "text/plain": [
       "(660, 10)"
      ]
     },
     "execution_count": 62,
     "metadata": {},
     "output_type": "execute_result"
    }
   ],
   "source": [
    "cell_corr.shape"
   ]
  },
  {
   "cell_type": "markdown",
   "id": "6dafda85",
   "metadata": {},
   "source": [
    "<!-- list1 = [10, 20, 4, 45, 99]\n",
    " \n",
    "# new_list is a set of list1\n",
    "new_list = set(list1)\n",
    " \n",
    "# removing the largest element from temp list\n",
    "new_list.remove(max(new_list))\n",
    " \n",
    "# elements in original list are not changed\n",
    "# print(list1)\n",
    " \n",
    "print(max(new_list)) -->"
   ]
  }
 ],
 "metadata": {
  "environment": {
   "name": "tf2-gpu.2-5.m71",
   "type": "gcloud",
   "uri": "gcr.io/deeplearning-platform-release/tf2-gpu.2-5:m71"
  },
  "kernelspec": {
   "display_name": "Python 3",
   "language": "python",
   "name": "python3"
  },
  "language_info": {
   "codemirror_mode": {
    "name": "ipython",
    "version": 3
   },
   "file_extension": ".py",
   "mimetype": "text/x-python",
   "name": "python",
   "nbconvert_exporter": "python",
   "pygments_lexer": "ipython3",
   "version": "3.7.10"
  }
 },
 "nbformat": 4,
 "nbformat_minor": 5
}

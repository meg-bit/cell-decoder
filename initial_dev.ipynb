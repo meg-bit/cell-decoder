{
 "cells": [
  {
   "cell_type": "markdown",
   "id": "3b73d9ea",
   "metadata": {},
   "source": [
    "# Preprocessing"
   ]
  },
  {
   "cell_type": "code",
   "execution_count": 53,
   "id": "17073ff6",
   "metadata": {},
   "outputs": [
    {
     "name": "stdout",
     "output_type": "stream",
     "text": [
      "The autoreload extension is already loaded. To reload it, use:\n",
      "  %reload_ext autoreload\n"
     ]
    }
   ],
   "source": [
    "import heapq\n",
    "import os\n",
    "import sys\n",
    "import numpy as np\n",
    "import pandas as pd\n",
    "import tifffile as tif\n",
    "import h5py\n",
    "from skimage import io, img_as_float32\n",
    "import matplotlib.pyplot as plt\n",
    "from scipy import ndimage\n",
    "import IPython.display\n",
    "# import PIL\n",
    "%matplotlib inline\n",
    "%load_ext autoreload\n",
    "%autoreload 2\n",
    "import os, sys\n",
    "sys.path.append(\"../bardensr\")\n",
    "import bardensr\n",
    "import bardensr.plotting"
   ]
  },
  {
   "cell_type": "code",
   "execution_count": 5,
   "id": "d03f56f6",
   "metadata": {},
   "outputs": [
    {
     "name": "stdout",
     "output_type": "stream",
     "text": [
      "./data/crisprmap20210506/amp-ch1-cycle0.tiff\n",
      "./data/crisprmap20210506/amp-ch1-cycle1.tiff\n",
      "./data/crisprmap20210506/amp-ch1-cycle2.tiff\n",
      "./data/crisprmap20210506/amp-ch1-cycle3.tiff\n",
      "./data/crisprmap20210506/amp-ch1-cycle4.tiff\n",
      "./data/crisprmap20210506/amp-ch2-cycle0.tiff\n",
      "./data/crisprmap20210506/amp-ch2-cycle1.tiff\n",
      "./data/crisprmap20210506/amp-ch2-cycle2.tiff\n",
      "./data/crisprmap20210506/amp-ch2-cycle3.tiff\n",
      "./data/crisprmap20210506/amp-ch2-cycle4.tiff\n"
     ]
    }
   ],
   "source": [
    "n_channels = 2\n",
    "n_cycles = 5\n",
    "\n",
    "img = tif.imread('./data/crisprmap20210506/amp-ch1-cycle0.tiff')\n",
    "img_size = img.shape[:2]\n",
    "\n",
    "X = np.zeros((n_channels*n_cycles, 1, *img_size))\n",
    "k = 0\n",
    "for i in range(n_channels):\n",
    "    for j in range(n_cycles):\n",
    "        fn = f'./data/crisprmap20210506/amp-ch{i+1}-cycle{j}.tiff'\n",
    "        print(fn)\n",
    "        img = tif.imread(fn)\n",
    "        X[k, 0, :, :] = img[:, :, 1]  # using layer 1 out of layers 0-3\n",
    "        k = k+1"
   ]
  },
  {
   "cell_type": "code",
   "execution_count": 6,
   "id": "c1081869",
   "metadata": {},
   "outputs": [
    {
     "data": {
      "text/plain": [
       "(2048, 1792, 4)"
      ]
     },
     "execution_count": 6,
     "metadata": {},
     "output_type": "execute_result"
    }
   ],
   "source": [
    "img.shape"
   ]
  },
  {
   "cell_type": "code",
   "execution_count": 7,
   "id": "6ff56ae2",
   "metadata": {},
   "outputs": [
    {
     "data": {
      "text/plain": [
       "(10, 1, 2048, 1792)"
      ]
     },
     "execution_count": 7,
     "metadata": {},
     "output_type": "execute_result"
    }
   ],
   "source": [
    "X.shape"
   ]
  },
  {
   "cell_type": "code",
   "execution_count": 8,
   "id": "1c29a17c",
   "metadata": {},
   "outputs": [],
   "source": [
    "# for i in range(X.shape[0]):\n",
    "#     plt.figure(dpi=250)\n",
    "#     plt.imshow(X[i, 0,])"
   ]
  },
  {
   "cell_type": "markdown",
   "id": "79cb948c",
   "metadata": {},
   "source": [
    "## Check how many pixels are roughly in one amplicon"
   ]
  },
  {
   "cell_type": "code",
   "execution_count": 9,
   "id": "3f835926",
   "metadata": {},
   "outputs": [],
   "source": [
    "# img = tif.imread('./data/crisprmap20210506/amp-ch1-cycle2.tiff')\n",
    "# plt.figure(dpi=100)\n",
    "# plt.imshow(img[80:100, 80:100, 1])\n",
    "# plt.axis('image')\n",
    "# # im.view()"
   ]
  },
  {
   "cell_type": "markdown",
   "id": "359d59d3",
   "metadata": {},
   "source": [
    "This shows if the windows for local maxima is 3 by 3 pixels, they should be right for catching one amplicon"
   ]
  },
  {
   "cell_type": "markdown",
   "id": "359e19a6",
   "metadata": {},
   "source": [
    "## Remove border artifact and get X only within the range of the slide - segmentation images must be set to the same range when overlaying"
   ]
  },
  {
   "cell_type": "code",
   "execution_count": 10,
   "id": "26363855",
   "metadata": {},
   "outputs": [],
   "source": [
    "up = 10\n",
    "down = 1900\n",
    "left = 50\n",
    "right = 1650\n",
    "\n",
    "Xcenter = X[:, :, up:down, left:right] # range is selected based on observation of images"
   ]
  },
  {
   "cell_type": "code",
   "execution_count": 11,
   "id": "f6b2257c",
   "metadata": {},
   "outputs": [],
   "source": [
    "# for i in range(Xcenter.shape[0]):\n",
    "#     plt.figure(dpi=250)\n",
    "#     plt.imshow(Xcenter[i, 0,])"
   ]
  },
  {
   "cell_type": "markdown",
   "id": "ba7589f4",
   "metadata": {},
   "source": [
    "# Codebook\n",
    "\n",
    "The most important is to make sure the codebook and the images are of the same order"
   ]
  },
  {
   "cell_type": "code",
   "execution_count": 12,
   "id": "e6ba360a",
   "metadata": {},
   "outputs": [
    {
     "data": {
      "text/plain": [
       "array([[1, 0, 0, 0, 0, 1, 0, 0, 0, 0],\n",
       "       [0, 0, 0, 1, 0, 0, 0, 0, 1, 0],\n",
       "       [0, 1, 0, 0, 0, 0, 1, 0, 0, 0],\n",
       "       [0, 0, 0, 0, 1, 0, 0, 0, 0, 1],\n",
       "       [0, 0, 1, 0, 0, 0, 0, 1, 0, 0],\n",
       "       [0, 1, 0, 0, 0, 1, 0, 0, 0, 0],\n",
       "       [0, 0, 1, 0, 0, 1, 0, 0, 0, 0],\n",
       "       [1, 0, 0, 0, 0, 0, 1, 0, 0, 0],\n",
       "       [0, 0, 1, 0, 0, 0, 1, 0, 0, 0],\n",
       "       [0, 1, 0, 0, 0, 0, 0, 1, 0, 0]])"
      ]
     },
     "execution_count": 12,
     "metadata": {},
     "output_type": "execute_result"
    }
   ],
   "source": [
    "# !! currently the first value shows nan and hard code it to be 1; needs a better fix\n",
    "codebook = np.genfromtxt('./data/CRISPRmap_pilot_codebook_default.csv', filling_values=1, dtype=np.int, delimiter=\",\")\n",
    "codebook"
   ]
  },
  {
   "cell_type": "code",
   "execution_count": 13,
   "id": "4ac245d4",
   "metadata": {},
   "outputs": [],
   "source": [
    "# codebook = csv.reshape((10, 2, 5)).T.astype(bool)\n",
    "# codebook"
   ]
  },
  {
   "cell_type": "code",
   "execution_count": 14,
   "id": "7b94c6f8",
   "metadata": {},
   "outputs": [
    {
     "data": {
      "text/plain": [
       "(10, 10)"
      ]
     },
     "execution_count": 14,
     "metadata": {},
     "output_type": "execute_result"
    }
   ],
   "source": [
    "codebook.shape"
   ]
  },
  {
   "cell_type": "markdown",
   "id": "f94a7f8e",
   "metadata": {},
   "source": [
    "The order of the codebook matches the order of the image stack."
   ]
  },
  {
   "cell_type": "markdown",
   "id": "007fe53d",
   "metadata": {},
   "source": [
    "## Background subtraction and normalization"
   ]
  },
  {
   "cell_type": "code",
   "execution_count": 15,
   "id": "832c9060",
   "metadata": {},
   "outputs": [
    {
     "data": {
      "text/plain": [
       "(10, 1, 1890, 1600)"
      ]
     },
     "execution_count": 15,
     "metadata": {},
     "output_type": "execute_result"
    }
   ],
   "source": [
    "Xcenter.shape"
   ]
  },
  {
   "cell_type": "code",
   "execution_count": 16,
   "id": "d0b08ae9",
   "metadata": {},
   "outputs": [],
   "source": [
    "# Different from how bardensr did it (use these functions for now because they are tested)\n",
    "Xnorm = bardensr.preprocessing.background_subtraction(Xcenter, [0,10,10])\n",
    "Xnorm = bardensr.preprocessing.minmax(Xnorm)"
   ]
  },
  {
   "cell_type": "code",
   "execution_count": 17,
   "id": "f8acbf33",
   "metadata": {},
   "outputs": [
    {
     "data": {
      "text/plain": [
       "(10, 1, 1890, 1600)"
      ]
     },
     "execution_count": 17,
     "metadata": {},
     "output_type": "execute_result"
    }
   ],
   "source": [
    "Xnorm.shape"
   ]
  },
  {
   "cell_type": "code",
   "execution_count": 18,
   "id": "d6eef2b9",
   "metadata": {},
   "outputs": [],
   "source": [
    "# for i in range(Xnorm.shape[0]):\n",
    "#     plt.figure(dpi=250)\n",
    "#     plt.imshow(Xnorm[i, 0,])"
   ]
  },
  {
   "cell_type": "markdown",
   "id": "405c9bdf",
   "metadata": {},
   "source": [
    "## Distribution"
   ]
  },
  {
   "cell_type": "code",
   "execution_count": 19,
   "id": "15be3fb0",
   "metadata": {},
   "outputs": [],
   "source": [
    "# # create the histogram\n",
    "# for i in range(Xnorm.shape[0]):\n",
    "#     histogram, bin_edges = np.histogram(Xnorm[i, 0], bins=256, range=(0, 1))\n",
    "\n",
    "#     # configure and draw the histogram figure\n",
    "#     plt.figure()\n",
    "# #     plt.title(\"Grayscale Histogram\")\n",
    "#     plt.xlabel(\"grayscale value\")\n",
    "#     plt.ylabel(\"pixels\")\n",
    "\n",
    "#     plt.semilogy(bin_edges[0:-1], histogram)  # <- or here\n",
    "\n",
    "#     plt.xlim([0.0, 1.0])  # <- named arguments do not work here\n",
    "#     plt.show()"
   ]
  },
  {
   "cell_type": "markdown",
   "id": "434dee8c",
   "metadata": {},
   "source": [
    "## Thresholding"
   ]
  },
  {
   "cell_type": "code",
   "execution_count": 20,
   "id": "977759c8",
   "metadata": {},
   "outputs": [
    {
     "data": {
      "text/plain": [
       "(10, 1, 1890, 1600)"
      ]
     },
     "execution_count": 20,
     "metadata": {},
     "output_type": "execute_result"
    }
   ],
   "source": [
    "Xnorm.shape"
   ]
  },
  {
   "cell_type": "code",
   "execution_count": 21,
   "id": "8d044b04",
   "metadata": {},
   "outputs": [
    {
     "data": {
      "text/plain": [
       "(1890, 1600)"
      ]
     },
     "execution_count": 21,
     "metadata": {},
     "output_type": "execute_result"
    }
   ],
   "source": [
    "Xnorm[0, 0,].shape"
   ]
  },
  {
   "cell_type": "code",
   "execution_count": 22,
   "id": "8b49d602",
   "metadata": {},
   "outputs": [],
   "source": [
    "# upper = 0.9\n",
    "# lower = [0.2, 0.16, 0.13, 0.15, 0.16, 0.16, 0.16, 0.13, 0.15, 0.15]\n",
    "# Xthresh = Xnorm.copy()\n",
    "# for i in range(Xthresh.shape[0]):\n",
    "#     single = Xthresh[i, 0,]\n",
    "#     single[single < lower[i]] = 0\n",
    "#     single[single > upper] = upper\n",
    "#     Xthresh[i, 0] = single"
   ]
  },
  {
   "cell_type": "code",
   "execution_count": 23,
   "id": "cddda8fe",
   "metadata": {},
   "outputs": [],
   "source": [
    "residual = 0.125  # tested through the spot method and the cell method should be less sensitive \n",
    "Xthresh = Xnorm.copy()\n",
    "Xthresh[Xthresh < residual] = 0"
   ]
  },
  {
   "cell_type": "code",
   "execution_count": 24,
   "id": "55b20392",
   "metadata": {},
   "outputs": [],
   "source": [
    "# for i in range(Xthresh.shape[0]):\n",
    "#     histogram, bin_edges = np.histogram(Xthresh[i, 0], bins=256, range=(0, 1))\n",
    "\n",
    "#     # configure and draw the histogram figure\n",
    "#     plt.figure()\n",
    "# #     plt.title(\"Grayscale Histogram\")\n",
    "#     plt.xlabel(\"grayscale value\")\n",
    "#     plt.ylabel(\"pixels\")\n",
    "\n",
    "#     plt.semilogy(bin_edges[0:-1], histogram)  # <- or here\n",
    "\n",
    "#     plt.xlim([0.0, 1.0])  # <- named arguments do not work here\n",
    "#     plt.show()"
   ]
  },
  {
   "cell_type": "code",
   "execution_count": 25,
   "id": "7e791f56",
   "metadata": {},
   "outputs": [],
   "source": [
    "# # Before and after (partial region)\n",
    "# # with bardensr.plotting.AnimAcross() as a:\n",
    "# for i in range(Xthresh.shape[0]):\n",
    "#     plt.figure(dpi=250)\n",
    "#     plt.subplot(1, 2, 1)\n",
    "# #     a('before')\n",
    "#     plt.imshow(Xnorm[i, 0, 200:500, 200:500])\n",
    "#     plt.subplot(1, 2, 2)\n",
    "# #     a('after')\n",
    "#     plt.imshow(Xthresh[i, 0, 200:500, 200:500])"
   ]
  },
  {
   "cell_type": "markdown",
   "id": "ce97ef45",
   "metadata": {},
   "source": [
    "# Peak calling and counting (inside membrane masks)\n",
    "sun, mon\n",
    "\n",
    "**Check by overlay to see if there are enough spots called.**"
   ]
  },
  {
   "cell_type": "code",
   "execution_count": 26,
   "id": "d6dbfe79",
   "metadata": {},
   "outputs": [
    {
     "name": "stdout",
     "output_type": "stream",
     "text": [
      "<KeysViewHDF5 ['Average GFP Masks', 'Cell Seg Mask', 'Max Projection', 'Nuc Seg Mask', 'Summed GFP Masks']>\n"
     ]
    }
   ],
   "source": [
    "# Read in the membrane segmentation\n",
    "hf = h5py.File(\"./data/Ben_MembraneSegmentation_NuclearGFP_2021-06-22.hdf5\", \"r\")\n",
    "print(hf.keys())\n",
    "masks_mem = hf[\"Cell Seg Mask\"]"
   ]
  },
  {
   "cell_type": "code",
   "execution_count": 27,
   "id": "f49f156e",
   "metadata": {},
   "outputs": [],
   "source": [
    "# plt.figure(dpi=250)\n",
    "# plt.imshow(masks_mem)\n",
    "# plt.axis('image')"
   ]
  },
  {
   "cell_type": "code",
   "execution_count": 28,
   "id": "885b379c",
   "metadata": {
    "collapsed": true,
    "jupyter": {
     "outputs_hidden": true
    }
   },
   "outputs": [
    {
     "data": {
      "text/plain": [
       "array([  0,   1,   2,   3,   4,   5,   6,   7,   8,   9,  10,  11,  12,\n",
       "        13,  14,  15,  16,  17,  18,  19,  20,  21,  22,  23,  24,  25,\n",
       "        26,  27,  28,  29,  30,  31,  32,  33,  34,  35,  36,  37,  38,\n",
       "        39,  40,  41,  42,  43,  44,  45,  46,  47,  48,  49,  50,  51,\n",
       "        52,  53,  54,  55,  56,  57,  58,  59,  60,  61,  62,  63,  64,\n",
       "        65,  66,  67,  68,  69,  70,  71,  72,  73,  74,  75,  76,  77,\n",
       "        78,  79,  80,  81,  82,  83,  84,  85,  86,  87,  88,  89,  90,\n",
       "        91,  92,  93,  94,  95,  96,  97,  98,  99, 100, 101, 102, 103,\n",
       "       104, 105, 106, 107, 108, 109, 110, 111, 112, 113, 114, 115, 116,\n",
       "       117, 118, 119, 120, 121, 122, 123, 124, 125, 126, 127, 128, 129,\n",
       "       130, 131, 132, 133, 134, 135, 136, 137, 138, 139, 140, 141, 142,\n",
       "       143, 144, 145, 146, 147, 148, 149, 150, 151, 152, 153, 154, 155,\n",
       "       156, 157, 158, 159, 160, 161, 162, 163, 164, 165, 166, 167, 168,\n",
       "       169, 170, 171, 172, 173, 174, 175, 176, 177, 178, 179, 180, 181,\n",
       "       182, 183, 184, 185, 186, 187, 188, 189, 190, 191, 192, 193, 194,\n",
       "       195, 196, 197, 198, 199, 200, 201, 202, 203, 204, 205, 206, 207,\n",
       "       208, 209, 210, 211, 212, 213, 214, 215, 216, 217, 218, 219, 220,\n",
       "       221, 222, 223, 224, 225, 226, 227, 228, 229, 230, 231, 232, 233,\n",
       "       234, 235, 236, 237, 238, 239, 240, 241, 242, 243, 244, 245, 246,\n",
       "       247, 248, 249, 250, 251, 252, 253, 254, 255, 256, 257, 258, 259,\n",
       "       260, 261, 262, 263, 264, 265, 266, 267, 268, 269, 270, 271, 272,\n",
       "       273, 274, 275, 276, 277, 278, 279, 280, 281, 282, 283, 284, 285,\n",
       "       286, 287, 288, 289, 290, 291, 292, 293, 294, 295, 296, 297, 298,\n",
       "       299, 300, 301, 302, 303, 304, 305, 306, 307, 308, 309, 310, 311,\n",
       "       312, 313, 314, 315, 316, 317, 318, 319, 320, 321, 322, 323, 324,\n",
       "       325, 326, 327, 328, 329, 330, 331, 332, 333, 334, 335, 336, 337,\n",
       "       338, 339, 340, 341, 342, 343, 344, 345, 346, 347, 348, 349, 350,\n",
       "       351, 352, 353, 354, 355, 356, 357, 358, 359, 360, 361, 362, 363,\n",
       "       364, 365, 366, 367, 368, 369, 370, 371, 372, 373, 374, 375, 376,\n",
       "       377, 378, 379, 380, 381, 382, 383, 384, 385, 386, 387, 388, 389,\n",
       "       390, 391, 392, 393, 394, 395, 396, 397, 398, 399, 400, 401, 402,\n",
       "       403, 404, 405, 406, 407, 408, 409, 410, 411, 412, 413, 414, 415,\n",
       "       416, 417, 418, 419, 420, 421, 422, 423, 424, 425, 426, 427, 428,\n",
       "       429, 430, 431, 432, 433, 434, 435, 436, 437, 438, 439, 440, 441,\n",
       "       442, 443, 444, 445, 446, 447, 448, 449, 450, 451, 452, 453, 454,\n",
       "       455, 456, 457, 458, 459, 460, 461, 462, 463, 464, 465, 466, 467,\n",
       "       468, 469, 470, 471, 472, 473, 474, 475, 476, 477, 478, 479, 480,\n",
       "       481, 482, 483, 484, 485, 486, 487, 488, 489, 490, 491, 492, 493,\n",
       "       494, 495, 496, 497, 498, 499, 500, 501, 502, 503, 504, 505, 506,\n",
       "       507, 508, 509, 510, 511, 512, 513, 514, 515, 516, 517, 518, 519,\n",
       "       520, 521, 522, 523, 524, 525, 526, 527, 528, 529, 530, 531, 532,\n",
       "       533, 534, 535, 536, 537, 538, 539, 540, 541, 542, 543, 544, 545,\n",
       "       546, 547, 548, 549, 550, 551, 552, 553, 554, 555, 556, 557, 558,\n",
       "       559, 560, 561, 562, 563, 564, 565, 566, 567, 568, 569, 570, 571,\n",
       "       572, 573, 574, 575, 576, 577, 578, 579, 580, 581, 582, 583, 584,\n",
       "       585, 586, 587, 588, 589, 590, 591, 592, 593, 594, 595, 596, 597,\n",
       "       598, 599, 600, 601, 602, 603, 604, 605, 606, 607, 608, 609, 610,\n",
       "       611, 612, 613, 614, 615, 616, 617, 618, 619, 620, 621, 622, 623,\n",
       "       624, 625, 626, 627, 628, 629, 630, 631, 632, 633, 634, 635, 636,\n",
       "       637, 638, 639, 640, 641, 642, 643, 644, 645, 646, 647, 648, 649,\n",
       "       650, 651, 652, 653, 654, 655, 656, 657, 658, 659], dtype=int32)"
      ]
     },
     "execution_count": 28,
     "metadata": {},
     "output_type": "execute_result"
    }
   ],
   "source": [
    "# Find the number of membrane segmentation masks\n",
    "np.unique(masks_mem)"
   ]
  },
  {
   "cell_type": "code",
   "execution_count": 29,
   "id": "4e08da0f",
   "metadata": {},
   "outputs": [],
   "source": [
    "# # Check starting from which number the masks are truly membrane segmentation (instead of the background)\n",
    "# plt.figure(dpi=300)\n",
    "# for i in range(0, 5):\n",
    "#     plt.figure()\n",
    "#     plt.imshow(np.array(masks_mem)==i)"
   ]
  },
  {
   "cell_type": "code",
   "execution_count": 30,
   "id": "f0c532ed",
   "metadata": {},
   "outputs": [],
   "source": [
    "#     xindex = test.loc[i, 'm2'] + left\n",
    "#     yindex = test.loc[i, 'm1'] + up"
   ]
  },
  {
   "cell_type": "code",
   "execution_count": 31,
   "id": "c7e9a210",
   "metadata": {},
   "outputs": [],
   "source": [
    "# pd.DataFrame(np.zeros((len(np.unique(masks_mem)), Xthresh.shape[0])))"
   ]
  },
  {
   "cell_type": "code",
   "execution_count": 32,
   "id": "ad82f1aa",
   "metadata": {},
   "outputs": [],
   "source": [
    "# cell_table = pd.DataFrame(np.zeros((len(np.unique(masks_mem)), Xthresh.shape[0])))\n",
    "cell_table = np.zeros((len(np.unique(masks_mem)), Xthresh.shape[0]))\n",
    "\n",
    "for k in range(Xthresh.shape[0]):  # for the kth image\n",
    "    # Get local maximum values of desired neighborhood (size of the amplicons)\n",
    "    max_fil = ndimage.maximum_filter(Xthresh[k,], size=(1, 2, 2))\n",
    "\n",
    "    # Threshold the image to find locations of interest\n",
    "    # assuming 6 standard deviations above the mean of the image\n",
    "    peak_thresh = max_fil.mean() + max_fil.std() * 6\n",
    "\n",
    "    # find areas greater than peak_thresh\n",
    "    labels, num_labels = ndimage.label(max_fil > peak_thresh)\n",
    "\n",
    "    # Get the positions of the maxima\n",
    "    coords = ndimage.measurements.center_of_mass(Xthresh[k,], \n",
    "                                                 labels=labels, \n",
    "                                                 index=np.arange(1, num_labels + 1))\n",
    "\n",
    "    # # Get the maximum value in the labels\n",
    "    # values = ndimage.measurements.maximum(img, labels=labels, index=np.arange(1, num_labels + 1))\n",
    "    # # https://stackoverflow.com/questions/55453110/how-to-find-local-maxima-of-3d-array-in-python\n",
    "\n",
    "    for _, m1, m2 in coords:\n",
    "        m1 = int(np.round(m1))\n",
    "        m2 = int(np.round(m2))\n",
    "        mem_id = masks_mem[m1+up, m2+left]  # important to match the coordinates if images are trimmed\n",
    "        if mem_id>0: # 0 is background\n",
    "#             cell_table.loc[mem_id, k] += 1\n",
    "            cell_table[mem_id, k] += 1"
   ]
  },
  {
   "cell_type": "code",
   "execution_count": 33,
   "id": "f506baef",
   "metadata": {},
   "outputs": [],
   "source": [
    "# labels"
   ]
  },
  {
   "cell_type": "code",
   "execution_count": 34,
   "id": "4798c1c9",
   "metadata": {},
   "outputs": [],
   "source": [
    "# num_labels"
   ]
  },
  {
   "cell_type": "code",
   "execution_count": 35,
   "id": "d9e1e162",
   "metadata": {},
   "outputs": [
    {
     "data": {
      "text/plain": [
       "[(0.0, 6.543602130081081, 861.0),\n",
       " (0.0, 8.0, 108.59272456891979),\n",
       " (0.0, 9.481436771695659, 903.0),\n",
       " (0.0, 11.254144676468409, 729.667745198682),\n",
       " (0.0, 14.440051349491345, 1046.6361900533907),\n",
       " (0.0, 14.434706722909056, 1560.5603333633226),\n",
       " (0.0, 30.0, 542.0),\n",
       " (0.0, 30.435710348342994, 854.9999999999999),\n",
       " (0.0, 34.46947260290432, 990.7079067808304),\n",
       " (0.0, 34.362508995111035, 1529.6088846841628)]"
      ]
     },
     "execution_count": 35,
     "metadata": {},
     "output_type": "execute_result"
    }
   ],
   "source": [
    "coords[:10]"
   ]
  },
  {
   "cell_type": "code",
   "execution_count": 36,
   "id": "ed53a4b5",
   "metadata": {},
   "outputs": [
    {
     "data": {
      "text/plain": [
       "802"
      ]
     },
     "execution_count": 36,
     "metadata": {},
     "output_type": "execute_result"
    }
   ],
   "source": [
    "int(np.round(801.5228444869555))"
   ]
  },
  {
   "cell_type": "code",
   "execution_count": 37,
   "id": "cabeef23",
   "metadata": {},
   "outputs": [
    {
     "data": {
      "text/plain": [
       "299"
      ]
     },
     "execution_count": 37,
     "metadata": {},
     "output_type": "execute_result"
    }
   ],
   "source": [
    "len(coords)"
   ]
  },
  {
   "cell_type": "code",
   "execution_count": 38,
   "id": "01368b90",
   "metadata": {},
   "outputs": [
    {
     "data": {
      "text/plain": [
       "array([[ 0.,  0.,  0., ...,  0.,  0.,  0.],\n",
       "       [ 0.,  0.,  0., ...,  0.,  0.,  0.],\n",
       "       [ 0.,  1.,  1., ...,  3.,  0.,  0.],\n",
       "       ...,\n",
       "       [ 2.,  8.,  1., ...,  2.,  1.,  0.],\n",
       "       [ 0.,  1.,  9., ..., 10.,  0.,  0.],\n",
       "       [ 2.,  0.,  0., ...,  0.,  0.,  0.]])"
      ]
     },
     "execution_count": 38,
     "metadata": {},
     "output_type": "execute_result"
    }
   ],
   "source": [
    "cell_table"
   ]
  },
  {
   "cell_type": "markdown",
   "id": "50dac3cf",
   "metadata": {},
   "source": [
    "# Nearest Neighbor/Correlation"
   ]
  },
  {
   "cell_type": "code",
   "execution_count": 39,
   "id": "06504d50",
   "metadata": {},
   "outputs": [],
   "source": [
    "# Calculate the correlation\n",
    "cell_norm = np.sqrt(np.sum(np.power(cell_table, 2), axis=1))\n",
    "cell_corr = cell_table.dot(codebook.T) / np.reshape(cell_norm + 1e-6, (-1,1))  # add 1e-6 to avoid the denominator being 0"
   ]
  },
  {
   "cell_type": "code",
   "execution_count": 40,
   "id": "88d541b4",
   "metadata": {},
   "outputs": [
    {
     "data": {
      "text/plain": [
       "array([[1.38873008, 0.        , 0.10286889, 0.05143445, 0.20573779,\n",
       "        0.77151671, 0.8743856 , 0.72008226, 0.20573779, 0.10286889],\n",
       "       [0.64326749, 0.        , 0.05360562, 0.        , 0.91129561,\n",
       "        0.16081687, 0.2144225 , 0.53605624, 0.10721125, 0.85768998],\n",
       "       [0.04944682, 0.09889363, 0.09889363, 0.        , 0.9889363 ,\n",
       "        0.14834045, 1.03838312, 0.        , 0.9889363 , 0.09889363],\n",
       "       [1.38873004, 0.        , 0.15430334, 0.        , 0.        ,\n",
       "        0.77151669, 0.61721335, 0.77151669, 0.        , 0.15430334],\n",
       "       [0.        , 0.        , 0.        , 0.        , 0.        ,\n",
       "        0.        , 0.        , 0.        , 0.        , 0.        ]])"
      ]
     },
     "execution_count": 40,
     "metadata": {},
     "output_type": "execute_result"
    }
   ],
   "source": [
    "cell_corr[200:205,]"
   ]
  },
  {
   "cell_type": "code",
   "execution_count": 55,
   "id": "f60ab27d",
   "metadata": {},
   "outputs": [
    {
     "data": {
      "text/plain": [
       "(660, 10)"
      ]
     },
     "execution_count": 55,
     "metadata": {},
     "output_type": "execute_result"
    }
   ],
   "source": [
    "cell_corr.shape"
   ]
  },
  {
   "cell_type": "code",
   "execution_count": 41,
   "id": "168541f4",
   "metadata": {},
   "outputs": [],
   "source": [
    "# cell_norm + 1e-6"
   ]
  },
  {
   "cell_type": "code",
   "execution_count": 42,
   "id": "3ac09e9e",
   "metadata": {},
   "outputs": [],
   "source": [
    "# (cell_table.dot(codebook.T) / np.reshape(cell_norm, (-1,1))).shape"
   ]
  },
  {
   "cell_type": "code",
   "execution_count": 43,
   "id": "b6d22637",
   "metadata": {},
   "outputs": [],
   "source": [
    "# cell_norm"
   ]
  },
  {
   "cell_type": "code",
   "execution_count": 44,
   "id": "e9afd90a",
   "metadata": {},
   "outputs": [],
   "source": [
    "# np.reshape(cell_norm, (-1,1))"
   ]
  },
  {
   "cell_type": "code",
   "execution_count": 51,
   "id": "7169cb0c",
   "metadata": {},
   "outputs": [
    {
     "data": {
      "text/html": [
       "<div>\n",
       "<style scoped>\n",
       "    .dataframe tbody tr th:only-of-type {\n",
       "        vertical-align: middle;\n",
       "    }\n",
       "\n",
       "    .dataframe tbody tr th {\n",
       "        vertical-align: top;\n",
       "    }\n",
       "\n",
       "    .dataframe thead th {\n",
       "        text-align: right;\n",
       "    }\n",
       "</style>\n",
       "<table border=\"1\" class=\"dataframe\">\n",
       "  <thead>\n",
       "    <tr style=\"text-align: right;\">\n",
       "      <th></th>\n",
       "      <th>barcode</th>\n",
       "    </tr>\n",
       "  </thead>\n",
       "  <tbody>\n",
       "    <tr>\n",
       "      <th>0</th>\n",
       "      <td>0</td>\n",
       "    </tr>\n",
       "    <tr>\n",
       "      <th>1</th>\n",
       "      <td>0</td>\n",
       "    </tr>\n",
       "    <tr>\n",
       "      <th>2</th>\n",
       "      <td>4</td>\n",
       "    </tr>\n",
       "    <tr>\n",
       "      <th>3</th>\n",
       "      <td>0</td>\n",
       "    </tr>\n",
       "    <tr>\n",
       "      <th>4</th>\n",
       "      <td>0</td>\n",
       "    </tr>\n",
       "    <tr>\n",
       "      <th>...</th>\n",
       "      <td>...</td>\n",
       "    </tr>\n",
       "    <tr>\n",
       "      <th>655</th>\n",
       "      <td>0</td>\n",
       "    </tr>\n",
       "    <tr>\n",
       "      <th>656</th>\n",
       "      <td>9</td>\n",
       "    </tr>\n",
       "    <tr>\n",
       "      <th>657</th>\n",
       "      <td>5</td>\n",
       "    </tr>\n",
       "    <tr>\n",
       "      <th>658</th>\n",
       "      <td>4</td>\n",
       "    </tr>\n",
       "    <tr>\n",
       "      <th>659</th>\n",
       "      <td>0</td>\n",
       "    </tr>\n",
       "  </tbody>\n",
       "</table>\n",
       "<p>660 rows × 1 columns</p>\n",
       "</div>"
      ],
      "text/plain": [
       "     barcode\n",
       "0          0\n",
       "1          0\n",
       "2          4\n",
       "3          0\n",
       "4          0\n",
       "..       ...\n",
       "655        0\n",
       "656        9\n",
       "657        5\n",
       "658        4\n",
       "659        0\n",
       "\n",
       "[660 rows x 1 columns]"
      ]
     },
     "execution_count": 51,
     "metadata": {},
     "output_type": "execute_result"
    }
   ],
   "source": [
    "# Assign cells to barcodes according to the max correlation\n",
    "cell_id = pd.DataFrame(np.argmax(cell_corr, axis=1), columns=['barcode'])\n",
    "cell_id"
   ]
  },
  {
   "cell_type": "code",
   "execution_count": 46,
   "id": "9705f85f",
   "metadata": {},
   "outputs": [],
   "source": [
    "# cell_id.loc[200:210]"
   ]
  },
  {
   "cell_type": "code",
   "execution_count": 47,
   "id": "195c46b2",
   "metadata": {},
   "outputs": [],
   "source": [
    "# sumGFPMasks = hf['Summed GFP Masks']\n",
    "# len(np.unique(masks_mem))"
   ]
  },
  {
   "cell_type": "code",
   "execution_count": 57,
   "id": "500d39d5",
   "metadata": {},
   "outputs": [
    {
     "data": {
      "text/plain": [
       "0.8743856048116447"
      ]
     },
     "execution_count": 57,
     "metadata": {},
     "output_type": "execute_result"
    }
   ],
   "source": [
    "heapq.nlargest(2, cell_corr[200,])[1]"
   ]
  },
  {
   "cell_type": "code",
   "execution_count": 58,
   "id": "fd27fc21",
   "metadata": {},
   "outputs": [
    {
     "data": {
      "text/html": [
       "<div>\n",
       "<style scoped>\n",
       "    .dataframe tbody tr th:only-of-type {\n",
       "        vertical-align: middle;\n",
       "    }\n",
       "\n",
       "    .dataframe tbody tr th {\n",
       "        vertical-align: top;\n",
       "    }\n",
       "\n",
       "    .dataframe thead th {\n",
       "        text-align: right;\n",
       "    }\n",
       "</style>\n",
       "<table border=\"1\" class=\"dataframe\">\n",
       "  <thead>\n",
       "    <tr style=\"text-align: right;\">\n",
       "      <th></th>\n",
       "      <th>barcode</th>\n",
       "      <th>max</th>\n",
       "      <th>second_max</th>\n",
       "    </tr>\n",
       "  </thead>\n",
       "  <tbody>\n",
       "    <tr>\n",
       "      <th>0</th>\n",
       "      <td>0</td>\n",
       "      <td>1.414213</td>\n",
       "      <td>0.000000</td>\n",
       "    </tr>\n",
       "    <tr>\n",
       "      <th>1</th>\n",
       "      <td>0</td>\n",
       "      <td>1.414213</td>\n",
       "      <td>0.000000</td>\n",
       "    </tr>\n",
       "    <tr>\n",
       "      <th>2</th>\n",
       "      <td>4</td>\n",
       "      <td>1.414213</td>\n",
       "      <td>1.206045</td>\n",
       "    </tr>\n",
       "    <tr>\n",
       "      <th>3</th>\n",
       "      <td>0</td>\n",
       "      <td>1.414213</td>\n",
       "      <td>0.000000</td>\n",
       "    </tr>\n",
       "    <tr>\n",
       "      <th>4</th>\n",
       "      <td>0</td>\n",
       "      <td>1.414213</td>\n",
       "      <td>0.000000</td>\n",
       "    </tr>\n",
       "    <tr>\n",
       "      <th>...</th>\n",
       "      <td>...</td>\n",
       "      <td>...</td>\n",
       "      <td>...</td>\n",
       "    </tr>\n",
       "    <tr>\n",
       "      <th>655</th>\n",
       "      <td>0</td>\n",
       "      <td>1.414213</td>\n",
       "      <td>0.946094</td>\n",
       "    </tr>\n",
       "    <tr>\n",
       "      <th>656</th>\n",
       "      <td>9</td>\n",
       "      <td>1.414213</td>\n",
       "      <td>0.763674</td>\n",
       "    </tr>\n",
       "    <tr>\n",
       "      <th>657</th>\n",
       "      <td>5</td>\n",
       "      <td>1.414213</td>\n",
       "      <td>1.005038</td>\n",
       "    </tr>\n",
       "    <tr>\n",
       "      <th>658</th>\n",
       "      <td>4</td>\n",
       "      <td>1.414213</td>\n",
       "      <td>0.813143</td>\n",
       "    </tr>\n",
       "    <tr>\n",
       "      <th>659</th>\n",
       "      <td>0</td>\n",
       "      <td>1.414213</td>\n",
       "      <td>0.707107</td>\n",
       "    </tr>\n",
       "  </tbody>\n",
       "</table>\n",
       "<p>660 rows × 3 columns</p>\n",
       "</div>"
      ],
      "text/plain": [
       "     barcode       max  second_max\n",
       "0          0  1.414213    0.000000\n",
       "1          0  1.414213    0.000000\n",
       "2          4  1.414213    1.206045\n",
       "3          0  1.414213    0.000000\n",
       "4          0  1.414213    0.000000\n",
       "..       ...       ...         ...\n",
       "655        0  1.414213    0.946094\n",
       "656        9  1.414213    0.763674\n",
       "657        5  1.414213    1.005038\n",
       "658        4  1.414213    0.813143\n",
       "659        0  1.414213    0.707107\n",
       "\n",
       "[660 rows x 3 columns]"
      ]
     },
     "execution_count": 58,
     "metadata": {},
     "output_type": "execute_result"
    }
   ],
   "source": [
    "cell_id['max'] = np.max(cell_corr)\n",
    "cell_id['second_max'] = [heapq.nlargest(2, cell_corr[i,])[1] for i in cell_id.index]\n",
    "cell_id"
   ]
  },
  {
   "cell_type": "markdown",
   "id": "50a0f865",
   "metadata": {},
   "source": [
    "How to define significant difference between two correlations"
   ]
  },
  {
   "cell_type": "markdown",
   "id": "fbde7482",
   "metadata": {},
   "source": [
    "<!-- list1 = [10, 20, 4, 45, 99]\n",
    " \n",
    "# new_list is a set of list1\n",
    "new_list = set(list1)\n",
    " \n",
    "# removing the largest element from temp list\n",
    "new_list.remove(max(new_list))\n",
    " \n",
    "# elements in original list are not changed\n",
    "# print(list1)\n",
    " \n",
    "print(max(new_list)) -->"
   ]
  },
  {
   "cell_type": "code",
   "execution_count": null,
   "id": "8fd44d87",
   "metadata": {},
   "outputs": [],
   "source": [
    "# cell_id.to_csv('./result/crisprmap20210506_layer1out0123_cell_id_thresh6std.csv', index=False)"
   ]
  }
 ],
 "metadata": {
  "environment": {
   "name": "tf2-gpu.2-5.m71",
   "type": "gcloud",
   "uri": "gcr.io/deeplearning-platform-release/tf2-gpu.2-5:m71"
  },
  "kernelspec": {
   "display_name": "Python 3",
   "language": "python",
   "name": "python3"
  },
  "language_info": {
   "codemirror_mode": {
    "name": "ipython",
    "version": 3
   },
   "file_extension": ".py",
   "mimetype": "text/x-python",
   "name": "python",
   "nbconvert_exporter": "python",
   "pygments_lexer": "ipython3",
   "version": "3.7.10"
  }
 },
 "nbformat": 4,
 "nbformat_minor": 5
}
